{
 "cells": [
  {
   "cell_type": "markdown",
   "metadata": {},
   "source": [
    "# Exercise of the 19th of october 2020\n",
    "\n",
    "related to the 6th course"
   ]
  },
  {
   "cell_type": "markdown",
   "metadata": {},
   "source": [
    "![ex](images/ex.png)"
   ]
  },
  {
   "cell_type": "markdown",
   "metadata": {},
   "source": [
    "### The initial network :\n",
    "\n",
    "![ex](images/0.png)\n",
    "\n",
    "---\n",
    "\n",
    "###  The forward propagation :\n",
    "\n",
    "Then we input Z = [1,2]\n",
    "\n",
    "So we have the following computations :\n",
    "\n",
    "* g(FL<sub>1</sub>) = g(W<sub>X<sub>1</sub>,FL<sub>1</sub></sub> × X<sub>1</sub> + W<sub>X<sub>2</sub>,FL<sub>1</sub></sub> × X<sub>2</sub>)\n",
    "* ⇔ g(FL<sub>1</sub>) = g(0.5×1 + 1.5×2)\n",
    "* ⇔ g(FL<sub>1</sub>) = g(3.5)\n",
    "* ⇔ g(FL<sub>1</sub>) = 0.971\n",
    "---\n",
    "* g(FL<sub>2</sub>) = g(1×0.971 + 3×0.007) = 0.007\n",
    "---\n",
    "* g(HL<sub>1</sub>) = g(1×0.971 + 3×0.007) = g(0.992) = 0.729\n",
    "---\n",
    "* g(HL<sub>2</sub>) = g(-1×0.971 + -4×0.007) = g(-0.999) = 0.269\n",
    "---\n",
    "* g(OL) = g(1×0.729 + -3×0.269) = g(-0.078) = 0.481\n",
    "---\n",
    "\n",
    "![ex](images/1.png)\n",
    "\n",
    "---"
   ]
  },
  {
   "cell_type": "markdown",
   "metadata": {},
   "source": [
    "###  Computing the backpropagation :\n",
    "\n",
    "* Δ(OL) = 0 - 0.481 = -0.481\n",
    "---\n",
    "* Δ(HL<sub>1</sub>) = g(HL<sub>1</sub>) × (1 - g(HL<sub>1</sub>)) × Δ(OL) × W<sub>HL<sub>1</sub>,OL</sub> \n",
    "* ⇔ Δ(HL<sub>1</sub>) = 0.729 × -0.271 × 1 × -0.481\n",
    "* ⇔ Δ(HL<sub>1</sub>) = 0.095\n",
    "---\n",
    "* Δ(HL<sub>2</sub>) = 0.269 × -0.731 × -3 × -0.481 = -0.283\n",
    "---\n",
    "* Δ(FL<sub>1</sub>) = 0.971 × -0.029 × (1 × 0.095 + 3 × -0.283) = 0.021\n",
    "---\n",
    "* Δ(FL<sub>2</sub>) = 0.007 × -0.993 × (-1 × 0.095 + -4 × -0.283) = -0.007\n",
    "---\n",
    "![ex](images/2.png)\n",
    "\n",
    "---\n",
    "Then the new weights :\n",
    "\n",
    "* W<sub>HL<sub>1</sub>,OL</sub> += learning_rate × g(HL<sub>1</sub>) × Δ(OL)\n",
    "* ⇔ W<sub>HL<sub>1</sub>,OL</sub> += 0.2 × 0.729 × -0.481\n",
    "* ⇔ W<sub>HL<sub>1</sub>,OL</sub> += -0.070\n",
    "---\n",
    "* W<sub>HL<sub>2</sub>,OL</sub> +=  0.2 × 0.269 × -0.481 = -0.026\n",
    "---\n",
    "* W<sub>FL<sub>1</sub>,HL<sub>1</sub></sub> +=  0.2 ×  0.971 × 0.095 = 0.018\n",
    "* W<sub>FL<sub>1</sub>,HL<sub>2</sub></sub> +=  0.2 ×  0.971 × -0.283 = -0.055\n",
    "---\n",
    "* W<sub>FL<sub>2</sub>,HL<sub>1</sub></sub> +=  0.2 ×  0.007 × 0.095 = 0.000\n",
    "* W<sub>FL<sub>2</sub>,HL<sub>2</sub></sub> +=  0.2 ×  0.007 × -0.283 = 0.000\n",
    "---\n",
    "* W<sub>X<sub>1</sub>,FL<sub>1</sub></sub> +=  0.2 × 1 × 0.021 = 0,004\n",
    "* W<sub>X<sub>1</sub>,FL<sub>2</sub></sub> +=  0.2 × 1 × -0.007 = -0.001\n",
    "---\n",
    "* W<sub>X<sub>2</sub>,FL<sub>1</sub></sub> +=  0.2 × 2 × 0.021 = 0.008\n",
    "* W<sub>X<sub>2</sub>,FL<sub>2</sub></sub> +=  0.2 × 2 × -0.007 = -0.003\n",
    "---\n",
    "![ex](images/3.png)"
   ]
  }
 ],
 "metadata": {
  "kernelspec": {
   "display_name": "Python 3",
   "language": "python",
   "name": "python3"
  },
  "language_info": {
   "codemirror_mode": {
    "name": "ipython",
    "version": 3
   },
   "file_extension": ".py",
   "mimetype": "text/x-python",
   "name": "python",
   "nbconvert_exporter": "python",
   "pygments_lexer": "ipython3",
   "version": "3.7.9"
  }
 },
 "nbformat": 4,
 "nbformat_minor": 4
}
