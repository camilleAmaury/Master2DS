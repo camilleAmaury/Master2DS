{
 "cells": [
  {
   "cell_type": "markdown",
   "metadata": {},
   "source": [
    "# Exercice of the 7th of October 2020\n",
    "\n",
    "related to the second course"
   ]
  },
  {
   "cell_type": "code",
   "execution_count": 2,
   "metadata": {},
   "outputs": [],
   "source": [
    "import numpy as np"
   ]
  },
  {
   "cell_type": "markdown",
   "metadata": {},
   "source": [
    "## Matrix Operations\n",
    "![Ex1](1.PNG)"
   ]
  },
  {
   "cell_type": "code",
   "execution_count": 4,
   "metadata": {},
   "outputs": [
    {
     "name": "stdout",
     "output_type": "stream",
     "text": [
      "A :\n",
      "[[2 3]\n",
      " [4 5]]\n",
      "\n",
      "B :\n",
      "[[1 2]\n",
      " [2 4]]\n"
     ]
    }
   ],
   "source": [
    "A = np.matrix([[2,3], [4,5]])\n",
    "B = np.matrix([[1,2], [2,4]])\n",
    "print(\"A :\\n{}\\n\\nB :\\n{}\".format(A, B))"
   ]
  },
  {
   "cell_type": "markdown",
   "metadata": {},
   "source": [
    "### Transpose of A"
   ]
  },
  {
   "cell_type": "code",
   "execution_count": 5,
   "metadata": {},
   "outputs": [
    {
     "name": "stdout",
     "output_type": "stream",
     "text": [
      "Own :\n",
      "[[2. 4.]\n",
      " [3. 5.]]\n",
      "\n",
      "Numpy :\n",
      "[[2 4]\n",
      " [3 5]]\n"
     ]
    }
   ],
   "source": [
    "def transpose_matrix(M):\n",
    "    new_M = np.zeros((M.shape[1], M.shape[0]))\n",
    "    for i in range(M.shape[0]):\n",
    "        for j in range(M.shape[1]):\n",
    "            new_M[j,i]=M[i,j]\n",
    "    return new_M\n",
    "\n",
    "print(\"Own :\\n{}\\n\\nNumpy :\\n{}\".format(transpose_matrix(A), np.transpose(A)))"
   ]
  },
  {
   "cell_type": "markdown",
   "metadata": {},
   "source": [
    "### Sum A + B"
   ]
  },
  {
   "cell_type": "code",
   "execution_count": 6,
   "metadata": {},
   "outputs": [
    {
     "name": "stdout",
     "output_type": "stream",
     "text": [
      "Own :\n",
      "[[3. 5.]\n",
      " [6. 9.]]\n",
      "\n",
      "Numpy :\n",
      "[[3 5]\n",
      " [6 9]]\n"
     ]
    }
   ],
   "source": [
    "def Add_matrix(A,B):\n",
    "    if A.shape == B.shape:\n",
    "        new_M = np.zeros(A.shape)\n",
    "        for i in range(A.shape[0]):\n",
    "            for j in range(A.shape[1]):\n",
    "                new_M[i,j]=A[i,j]+B[i,j]\n",
    "        return new_M\n",
    "    else:\n",
    "        return \"Shapes didn't match\"\n",
    "\n",
    "print(\"Own :\\n{}\\n\\nNumpy :\\n{}\".format(Add_matrix(A,B), A+B))"
   ]
  },
  {
   "cell_type": "markdown",
   "metadata": {},
   "source": [
    "### Matrix Product"
   ]
  },
  {
   "cell_type": "markdown",
   "metadata": {},
   "source": [
    "#### Dot product"
   ]
  },
  {
   "cell_type": "code",
   "execution_count": 10,
   "metadata": {},
   "outputs": [
    {
     "name": "stdout",
     "output_type": "stream",
     "text": [
      "Own :\n",
      "[[ 8. 16.]\n",
      " [14. 28.]]\n",
      "\n",
      "Numpy :\n",
      "[[ 8 16]\n",
      " [14 28]]\n"
     ]
    }
   ],
   "source": [
    "def product_matrix(A,B):\n",
    "    if A.shape[1] == B.shape[0]:\n",
    "        new_M = np.zeros(A.shape)\n",
    "        for i in range(A.shape[0]):\n",
    "            for j in range(B.shape[1]):\n",
    "                new_M[i,j]=A[i,:]*B[:,j]\n",
    "        return new_M\n",
    "    else:\n",
    "        return \"Shapes didn't match\"  \n",
    "    \n",
    "print(\"Own :\\n{}\\n\\nNumpy :\\n{}\".format(product_matrix(A,B), np.dot(A,B)))"
   ]
  },
  {
   "cell_type": "markdown",
   "metadata": {},
   "source": [
    "#### Element Wise product"
   ]
  },
  {
   "cell_type": "code",
   "execution_count": 9,
   "metadata": {},
   "outputs": [
    {
     "name": "stdout",
     "output_type": "stream",
     "text": [
      "Own :\n",
      "[[ 2.  6.]\n",
      " [ 8. 20.]]\n",
      "\n",
      "Numpy :\n",
      "[[ 2  6]\n",
      " [ 8 20]]\n"
     ]
    }
   ],
   "source": [
    "def Elem_product_matrix(A,B):\n",
    "    if A.shape == B.shape:\n",
    "        new_M = np.zeros(A.shape)\n",
    "        for i in range(A.shape[0]):\n",
    "            for j in range(A.shape[1]):\n",
    "                new_M[i,j]=A[i,j]*B[i,j]\n",
    "        return new_M\n",
    "    else:\n",
    "        return \"Shapes didn't match\"\n",
    "    \n",
    "print(\"Own :\\n{}\\n\\nNumpy :\\n{}\".format(Elem_product_matrix(A,B), np.multiply(A,B)))"
   ]
  },
  {
   "cell_type": "markdown",
   "metadata": {},
   "source": [
    "### Matrix Inverse\n",
    "\n",
    "For 2*2 Matrix :\n",
    "* Det(M) = ad-bc\n",
    "* Inv(M) exists if Det(M) != 0\n",
    "* Inv(M) = 1/Det(M) · ||d, -b|, |-c, a||"
   ]
  },
  {
   "cell_type": "code",
   "execution_count": 15,
   "metadata": {},
   "outputs": [
    {
     "name": "stdout",
     "output_type": "stream",
     "text": [
      "-------------- Matrix A --------------\n",
      "Own :\n",
      "[[-2.5  1.5]\n",
      " [ 2.  -1. ]]\n",
      "\n",
      "Numpy :\n",
      "[[-2.5  1.5]\n",
      " [ 2.  -1. ]]\n",
      "\n",
      " -------------- Matrix B --------------\n",
      "Own :\n",
      "Singular Matrix\n",
      "\n",
      "Numpy :\n",
      "0.0\n"
     ]
    }
   ],
   "source": [
    "def _2_2_matrix_inv(M):\n",
    "    det = M[0,0]*M[1,1] - M[0,1]*M[1,0]\n",
    "    if det != 0:\n",
    "        inv = 1/det * np.matrix([[M[1,1], -M[0,1]], [-M[1,0], M[0,0]]])\n",
    "        return inv\n",
    "    else:\n",
    "        return \"Singular Matrix\"\n",
    "    \n",
    "print(\"-------------- Matrix A --------------\\nOwn :\\n{}\\n\\nNumpy :\\n{}\".format(_2_2_matrix_inv(A), np.linalg.inv(A)))\n",
    "print(\"\\n -------------- Matrix B --------------\\nOwn :\\n{}\\n\\nNumpy :\\n{}\".format(_2_2_matrix_inv(B), np.linalg.det(B)))"
   ]
  },
  {
   "cell_type": "markdown",
   "metadata": {},
   "source": [
    "## Eigen Values and Vectors\n",
    "\n",
    "![Ex1](2.PNG)"
   ]
  },
  {
   "cell_type": "markdown",
   "metadata": {},
   "source": [
    "We have :\n",
    "\n",
    "* A<sup>1</sup> = V · Λ<sup>1</sup> · V<sup>-1</sup>\n",
    "\n",
    "And :\n",
    "\n",
    "* A<sup>2</sup> = (V · Λ<sup>1</sup> · V<sup>-1</sup>)<sup>2</sup>\n",
    "* ⇔ A<sup>2</sup> = (V · Λ<sup>1</sup> · V<sup>-1</sup>) · (V · Λ<sup>1</sup> · V<sup>-1</sup>)\n",
    "* ⇔ A<sup>2</sup> = V · Λ<sup>1</sup> · V<sup>-1</sup> · V · Λ<sup>1</sup> · V<sup>-1</sup>\n",
    "* ⇔ A<sup>2</sup> = V · Λ<sup>1</sup> · I · Λ<sup>1</sup> · V<sup>-1</sup>\n",
    "* ⇔ A<sup>2</sup> = V · Λ<sup>1</sup> · Λ<sup>1</sup> · V<sup>-1</sup>\n",
    "* ⇔ A<sup>2</sup> = V · Λ<sup>2</sup> · V<sup>-1</sup>\n",
    "\n",
    "Then we obtain :\n",
    "\n",
    "* A<sup>k</sup> = (V · Λ<sup>1</sup> · V<sup>-1</sup>)<sup>k</sup>\n",
    "* ⇔ A<sup>k</sup> = V · Λ<sup>k</sup> · V<sup>-1</sup>"
   ]
  },
  {
   "cell_type": "code",
   "execution_count": 28,
   "metadata": {},
   "outputs": [
    {
     "name": "stdout",
     "output_type": "stream",
     "text": [
      "Own :\n",
      "[[116. 153.]\n",
      " [204. 269.]]\n",
      "\n",
      "Numpy :\n",
      "[[116 153]\n",
      " [204 269]]\n"
     ]
    }
   ],
   "source": [
    "eig_A = np.linalg.eig(A)\n",
    "\n",
    "print(\"Own :\\n{}\\n\\nNumpy :\\n{}\".format(eig_A[1]*(np.diag(np.linalg.eig(A)[0])**3)*np.linalg.inv(eig_A[1]), \n",
    "                                        A**3))"
   ]
  },
  {
   "cell_type": "markdown",
   "metadata": {},
   "source": [
    "## Minimizing Least Squares\n",
    "\n",
    "![Ex1](3.PNG)"
   ]
  },
  {
   "cell_type": "markdown",
   "metadata": {},
   "source": [
    "Let's define :\n",
    "\n",
    "* f(x) = ||Ax - b||<sup>2</sup><sub>2</sub>\n",
    "\n",
    "In order to minimize a function, we look for the derivative of this function, and resolve the equation f'(x) = 0\n",
    "\n",
    "* f'(x) = 2 * A<sup>T</sup> · (Ax-b)\n",
    "* Then f'(x) = 0\n",
    "* ⇔ 2 * A<sup>T</sup> · (Ax-b) = 0\n",
    "* ⇔ A<sup>T</sup> · (Ax-b) = 0\n",
    "* ⇔ A<sup>T</sup> · Ax - A<sup>T</sup> · b = 0\n",
    "* ⇔ A<sup>T</sup> · Ax = A<sup>T</sup> · b\n",
    "* ⇔ (A<sup>T</sup> · A)<sup>-1</sup> · (A<sup>T</sup> · A) · x = (A<sup>T</sup> · A)<sup>-1</sup> · A<sup>T</sup> · b\n",
    "* ⇔ I · x = (A<sup>T</sup> · A)<sup>-1</sup> · A<sup>T</sup> · b\n",
    "* ⇔ x = (A<sup>T</sup> · A)<sup>-1</sup> · A<sup>T</sup> · b"
   ]
  },
  {
   "cell_type": "markdown",
   "metadata": {},
   "source": [
    "## Gradient Minimization\n",
    "\n",
    "![Ex1](4.PNG)"
   ]
  },
  {
   "cell_type": "markdown",
   "metadata": {},
   "source": [
    "**Min<sub>x</sub>  f(x,y)**\n",
    "\n",
    "* f'(x,y) = 2 * 2 * x - 8 = 4x - 8 \n",
    "\n",
    "So :\n",
    "\n",
    "* f'(x,y) = 0\n",
    "* ⇔ 4x - 8 = 0\n",
    "* ⇔ 4x = 8\n",
    "* ⇔ x = 8/4\n",
    "* ⇔ x = 2\n",
    "\n",
    "Second Derivative :\n",
    "\n",
    "* f''(x,y) = 4\n",
    "\n",
    "* f''(2,y) = 4 is positive, so it means that it's a minimum optimum\n"
   ]
  },
  {
   "cell_type": "markdown",
   "metadata": {},
   "source": [
    "**Min<sub>y</sub>  f(x,y)**\n",
    "\n",
    "* f'(x,y) = 3 * 3 * y<sup>2</sup> - 3 = 9y<sup>2</sup> - 3 \n",
    "\n",
    "So :\n",
    "\n",
    "* f'(x,y) = 0\n",
    "* ⇔ 9y<sup>2</sup> - 3  = 0\n",
    "* Δ = b<sup>2</sup> - 4ac\n",
    "* ⇔ Δ = 0<sup>2</sup> - 4 * 9 * (-3)\n",
    "* ⇔ Δ = 4 * 9 * 3\n",
    "* ⇔ Δ = 108\n",
    "* since Δ > 0 It exists two solution to the equation\n",
    "* Δ<sub>1</sub> = (-b + sqrt(Δ)) / 2a\n",
    "* ⇔ Δ<sub>1</sub> = (-0 + sqrt(108)) / (2*9)\n",
    "* ⇔ Δ<sub>1</sub> = sqrt(108) / 18\n",
    "* Δ<sub>2</sub> = (-b - sqrt(Δ)) / 2a\n",
    "* ⇔ Δ<sub>2</sub> = - sqrt(108) / 18\n",
    "\n",
    "Second Derivative :\n",
    "\n",
    "* f''(x,y) = 9 * 2 * y = 18y\n",
    "\n",
    "* f''(2,sqrt(108) / 18) = sqrt(108) is positive, so it means that it's a minimum optimum\n",
    "* f''(2,-sqrt(108) / 18) = -sqrt(108) is negative, so it means that it's a maximum optimum"
   ]
  },
  {
   "cell_type": "code",
   "execution_count": null,
   "metadata": {},
   "outputs": [],
   "source": []
  }
 ],
 "metadata": {
  "kernelspec": {
   "display_name": "Python 3",
   "language": "python",
   "name": "python3"
  },
  "language_info": {
   "codemirror_mode": {
    "name": "ipython",
    "version": 3
   },
   "file_extension": ".py",
   "mimetype": "text/x-python",
   "name": "python",
   "nbconvert_exporter": "python",
   "pygments_lexer": "ipython3",
   "version": "3.7.9"
  }
 },
 "nbformat": 4,
 "nbformat_minor": 4
}
