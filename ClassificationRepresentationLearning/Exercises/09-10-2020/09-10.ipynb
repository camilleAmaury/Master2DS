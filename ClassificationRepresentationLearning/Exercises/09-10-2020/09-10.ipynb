{
 "cells": [
  {
   "cell_type": "markdown",
   "metadata": {},
   "source": [
    "# Exercice of the 5th of October 2020"
   ]
  },
  {
   "cell_type": "code",
   "execution_count": 2,
   "metadata": {},
   "outputs": [],
   "source": [
    "import numpy as np\n",
    "from scipy.optimize import linprog"
   ]
  },
  {
   "cell_type": "markdown",
   "metadata": {},
   "source": [
    "## Traducing the problem to linear matrixes\n",
    "\n",
    "### Optimization function\n",
    "\n",
    "![temp](3.png)"
   ]
  },
  {
   "cell_type": "code",
   "execution_count": 12,
   "metadata": {},
   "outputs": [],
   "source": [
    "Cost = np.matrix([0.013,0.008,0.010,0.002,0.005,0.001])"
   ]
  },
  {
   "cell_type": "markdown",
   "metadata": {},
   "source": [
    "### Constraints\n",
    "\n",
    "#### Inequality\n",
    "\n",
    "![temp](1.png)\n",
    "\n",
    "![temp](2.png)\n",
    "\n",
    "We will transform the \"cons >= cons_res\" by multiplying the inequation by -1 on both side \"-cons <= cons_res\""
   ]
  },
  {
   "cell_type": "code",
   "execution_count": null,
   "metadata": {},
   "outputs": [],
   "source": [
    "Component = np.transpose(np.matrix(\n",
    "[\n",
    "    [-0.1, -0.08, 0.001, 0.002],\n",
    "    [-0.2, -0.1, 0.005, 0.005],\n",
    "    [-0.15, -0.11, 0.003, 0.007],\n",
    "    [-0.0, -0.01, 0.01, 0.008],\n",
    "    [-0.04, -0.01, 0.015, 0.0],\n",
    "    [-0.0, -0.0, 0.0, 0.0],\n",
    "]))\n",
    "\n",
    "ineq_constraints = np.array([-0.08, -0.06, 0.02, 0.004])"
   ]
  },
  {
   "cell_type": "markdown",
   "metadata": {},
   "source": [
    "#### Equality\n",
    "\n",
    "![temp](4.png)"
   ]
  },
  {
   "cell_type": "code",
   "execution_count": null,
   "metadata": {},
   "outputs": [],
   "source": [
    "Pound = np.matrix([[1., 1., 1., 1., 1., 1.]])\n",
    "\n",
    "eq_constraints = np.array([100.])"
   ]
  },
  {
   "cell_type": "markdown",
   "metadata": {},
   "source": [
    "#### Variable bounds \n",
    "\n",
    "Since we deal with quantity, we want null or positive numbers (R+)"
   ]
  },
  {
   "cell_type": "code",
   "execution_count": null,
   "metadata": {},
   "outputs": [],
   "source": [
    "Bounds = [(0, float(\"inf\")) for i in range(Cost.shape[0])]"
   ]
  },
  {
   "cell_type": "markdown",
   "metadata": {},
   "source": [
    "## Solving"
   ]
  },
  {
   "cell_type": "code",
   "execution_count": 13,
   "metadata": {},
   "outputs": [],
   "source": [
    "res = linprog(c=Cost, A_ub=Component, b_ub=ineq_constraints, A_eq=Pound, b_eq=eq_constraints, bounds=Bounds)"
   ]
  },
  {
   "cell_type": "code",
   "execution_count": 14,
   "metadata": {},
   "outputs": [
    {
     "name": "stdout",
     "output_type": "stream",
     "text": [
      "     con: array([2.01225703e-11])\n",
      "     fun: 0.10420000000932463\n",
      " message: 'Optimization terminated successfully.'\n",
      "     nit: 14\n",
      "   slack: array([3.99999998e-02, 2.82171023e-11, 1.69999999e-02, 9.99999959e-04])\n",
      "  status: 0\n",
      " success: True\n",
      "       x: array([3.05035146e-10, 5.99999998e-01, 1.48366187e-09, 5.08542961e-09,\n",
      "       5.94826493e-10, 9.94000000e+01])\n"
     ]
    }
   ],
   "source": [
    "print(res)"
   ]
  },
  {
   "cell_type": "code",
   "execution_count": 21,
   "metadata": {},
   "outputs": [
    {
     "name": "stdout",
     "output_type": "stream",
     "text": [
      "Cost : 0.1042, pound : 100.0\n"
     ]
    }
   ],
   "source": [
    "temp = np.multiply(Cost, res[\"x\"])\n",
    "print(\"Cost : {}, pound : {}\".format(round(np.sum(temp), 4), round(np.sum(res[\"x\"]), 4)))"
   ]
  }
 ],
 "metadata": {
  "kernelspec": {
   "display_name": "Python 3",
   "language": "python",
   "name": "python3"
  },
  "language_info": {
   "codemirror_mode": {
    "name": "ipython",
    "version": 3
   },
   "file_extension": ".py",
   "mimetype": "text/x-python",
   "name": "python",
   "nbconvert_exporter": "python",
   "pygments_lexer": "ipython3",
   "version": "3.7.6"
  }
 },
 "nbformat": 4,
 "nbformat_minor": 4
}
