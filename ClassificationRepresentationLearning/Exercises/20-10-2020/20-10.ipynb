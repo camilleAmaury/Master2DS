{
 "cells": [
  {
   "cell_type": "markdown",
   "metadata": {},
   "source": [
    "# Exercise of the 20th of october 2020\n",
    "\n",
    "exploring multilayer perceptron"
   ]
  },
  {
   "cell_type": "markdown",
   "metadata": {},
   "source": [
    "## Imports"
   ]
  },
  {
   "cell_type": "code",
   "execution_count": 76,
   "metadata": {},
   "outputs": [],
   "source": [
    "import numpy as np\n",
    "import matplotlib.pyplot as plt"
   ]
  },
  {
   "cell_type": "code",
   "execution_count": 77,
   "metadata": {},
   "outputs": [
    {
     "data": {
      "text/plain": [
       "array([[ 0.488997 ,  0.390712 , -1.       ],\n",
       "       [ 0.0106694,  0.642974 ,  1.       ],\n",
       "       [ 0.205201 ,  0.628098 , -1.       ],\n",
       "       [ 0.100216 ,  0.494993 ,  1.       ],\n",
       "       [ 0.411485 ,  0.267488 ,  1.       ]])"
      ]
     },
     "execution_count": 77,
     "metadata": {},
     "output_type": "execute_result"
    }
   ],
   "source": [
    "data = np.loadtxt('nonlinear_classification.data')\n",
    "data[:5]"
   ]
  },
  {
   "cell_type": "code",
   "execution_count": 78,
   "metadata": {},
   "outputs": [],
   "source": [
    "X = data[:,:2]\n",
    "Y = data[:, 2]\n",
    "N, d = X.shape"
   ]
  },
  {
   "cell_type": "code",
   "execution_count": 109,
   "metadata": {},
   "outputs": [],
   "source": [
    "_lr = 0.05\n",
    "_nb_hidden_neurons = 15"
   ]
  },
  {
   "cell_type": "code",
   "execution_count": 110,
   "metadata": {},
   "outputs": [],
   "source": [
    "max_val = 0.1\n",
    "W_hid = np.random.uniform(-max_val, max_val, (d, _nb_hidden_neurons))\n",
    "b_hid = np.random.uniform(-max_val, max_val, _nb_hidden_neurons)\n",
    "W_out = np.random.uniform(-max_val, max_val, _nb_hidden_neurons)\n",
    "b_out = np.random.uniform(-max_val, max_val, 1)"
   ]
  },
  {
   "cell_type": "code",
   "execution_count": 111,
   "metadata": {},
   "outputs": [
    {
     "data": {
      "text/plain": [
       "array([-0.04663865,  0.04810109, -0.05188963,  0.00998099, -0.05256633,\n",
       "        0.0714546 , -0.05832133, -0.09136488,  0.08401853,  0.0480075 ,\n",
       "       -0.02629094,  0.09367497, -0.06967703, -0.03815147, -0.09019917])"
      ]
     },
     "execution_count": 111,
     "metadata": {},
     "output_type": "execute_result"
    }
   ],
   "source": [
    "W_out"
   ]
  },
  {
   "cell_type": "code",
   "execution_count": 112,
   "metadata": {},
   "outputs": [
    {
     "data": {
      "text/plain": [
       "<matplotlib.collections.PathCollection at 0x20d067bcf88>"
      ]
     },
     "execution_count": 112,
     "metadata": {},
     "output_type": "execute_result"
    },
    {
     "data": {
      "image/png": "[encoded data removed]",
      "text/plain": [
       "<Figure size 432x288 with 1 Axes>"
      ]
     },
     "metadata": {
      "needs_background": "light"
     },
     "output_type": "display_data"
    }
   ],
   "source": [
    "plt.scatter(X[:,0], X[:,1], c=Y)"
   ]
  },
  {
   "cell_type": "code",
   "execution_count": 113,
   "metadata": {},
   "outputs": [],
   "source": [
    "def logistic(x) :\n",
    "    return 1.0 / (1.0 + np.exp(-x))\n",
    "\n",
    "def threshold(x) :\n",
    "    data = x.copy()\n",
    "    data [data > 0.] = 1.\n",
    "    data [data < 0.] = -1.\n",
    "    return data\n",
    "\n",
    "def feed_forward(X, W_hid, b_hid, W_out, b_out):\n",
    "    Y = logistic(np.dot(X, W_hid) + b_hid)\n",
    "    # Output layer\n",
    "    O = threshold(np.dot(Y, W_out) + b_out)\n",
    "    return Y, O"
   ]
  },
  {
   "cell_type": "code",
   "execution_count": 145,
   "metadata": {},
   "outputs": [],
   "source": [
    "def create_model(input_shape, nb_hidden_layers, output_shape):\n",
    "    max_val = 0.1\n",
    "    W_hid = np.random.uniform(-max_val, max_val, (input_shape, nb_hidden_layers))\n",
    "    b_hid = np.random.uniform(-max_val, max_val, nb_hidden_layers)\n",
    "    W_out = np.random.uniform(-max_val, max_val, nb_hidden_layers)\n",
    "    b_out = np.random.uniform(-max_val, max_val, output_shape)\n",
    "    return W_hid, b_hid, W_out, b_out"
   ]
  },
  {
   "cell_type": "code",
   "execution_count": 146,
   "metadata": {},
   "outputs": [],
   "source": [
    "def train_model(X, Y, W_hid, b_hid, W_out, b_out, _lr, epochs):\n",
    "    errors = []\n",
    "    for epoch in range(epochs):\n",
    "        nb_errors = 0\n",
    "        for i in range(X.shape[0]):\n",
    "            x = X[i,:]\n",
    "            y_true = Y[i]\n",
    "            y_pred, o = feed_forward(x, W_hid, b_hid, W_out, b_out)\n",
    "            if y_true != o:\n",
    "                nb_errors += 1\n",
    "            delta_out = (y_true - o)\n",
    "            delta_hidden = y_pred * (1-y_pred) * delta_out * W_out\n",
    "            W_out += np.multiply(np.multiply(_lr, y_pred), delta_out)\n",
    "            b_out += np.multiply(_lr, o)\n",
    "            for k in range(W_hid.shape[1]):\n",
    "                W_hid[:,k] += np.multiply(np.multiply(_lr, x), delta_hidden[k])\n",
    "            b_hid += np.multiply(_lr, y_pred)\n",
    "        if nb_errors == 0 :\n",
    "            print(\"no error\")\n",
    "            break\n",
    "        else:\n",
    "            pass\n",
    "            #print(nb_errors)\n",
    "        errors.append(nb_errors)\n",
    "    print(W_hid)\n",
    "    print(b_hid)\n",
    "    print(W_out)\n",
    "    print(b_out)\n",
    "    return errors"
   ]
  },
  {
   "cell_type": "code",
   "execution_count": 151,
   "metadata": {},
   "outputs": [
    {
     "name": "stdout",
     "output_type": "stream",
     "text": [
      "[[ 0.04172687  0.08018276 -0.0913782  -0.0388465  -0.00790849  0.05237445\n",
      "  -0.01093632  0.09181927 -0.09186654  0.00070829 -0.04917614 -0.00993152\n",
      "  -0.07507459 -0.02390469 -0.06571914 -0.01376005  0.05234744  0.05369315\n",
      "   0.05025285  0.08929944]\n",
      " [-0.08948516  0.00587532 -0.05071882 -0.07869848  0.01967705  0.08797999\n",
      "  -0.10186814 -0.09032906 -0.04720715  0.00605829  0.03816955  0.07254214\n",
      "   0.0288082  -0.05165425 -0.09249878  0.07389549  0.03180213  0.03268071\n",
      "  -0.00271199  0.0782183 ]]\n",
      "[498.75882916 499.12038307 498.75906283 498.81051504 499.09961489\n",
      " 499.02707724 498.83700556 498.79574199 499.0999009  498.91706284\n",
      " 499.10403402 499.05846318 498.81422285 498.98338302 498.92315197\n",
      " 499.10187514 499.21358405 499.0027093  499.01588677 498.90300343]\n",
      "[-1.56786986 -1.60070747 -1.62299682 -1.43158453 -1.52836261 -1.62283755\n",
      " -1.43532004 -1.45340251 -1.4482966  -1.61895294 -1.51634168 -1.47958122\n",
      " -1.60847335 -1.5032084  -1.57198991 -1.54795073 -1.61789336 -1.51732534\n",
      " -1.61838036 -1.50785767]\n",
      "[31.48472614]\n"
     ]
    }
   ],
   "source": [
    "W_hid, b_hid, W_out, b_out = create_model(d, 20, 1)\n",
    "errors = train_model(X, Y, W_hid.copy(), b_hid.copy(), W_out.copy(), b_out.copy(), _lr, 100)"
   ]
  },
  {
   "cell_type": "code",
   "execution_count": 152,
   "metadata": {},
   "outputs": [
    {
     "data": {
      "text/plain": [
       "[<matplotlib.lines.Line2D at 0x20d0640f208>]"
      ]
     },
     "execution_count": 152,
     "metadata": {},
     "output_type": "execute_result"
    },
    {
     "data": {
      "image/png": "[encoded data removed]",
      "text/plain": [
       "<Figure size 432x288 with 1 Axes>"
      ]
     },
     "metadata": {
      "needs_background": "light"
     },
     "output_type": "display_data"
    }
   ],
   "source": [
    "plt.plot(np.arange(len(errors)), errors)"
   ]
  },
  {
   "cell_type": "code",
   "execution_count": null,
   "metadata": {},
   "outputs": [],
   "source": []
  }
 ],
 "metadata": {
  "kernelspec": {
   "display_name": "Python 3",
   "language": "python",
   "name": "python3"
  },
  "language_info": {
   "codemirror_mode": {
    "name": "ipython",
    "version": 3
   },
   "file_extension": ".py",
   "mimetype": "text/x-python",
   "name": "python",
   "nbconvert_exporter": "python",
   "pygments_lexer": "ipython3",
   "version": "3.7.9"
  }
 },
 "nbformat": 4,
 "nbformat_minor": 4
}
