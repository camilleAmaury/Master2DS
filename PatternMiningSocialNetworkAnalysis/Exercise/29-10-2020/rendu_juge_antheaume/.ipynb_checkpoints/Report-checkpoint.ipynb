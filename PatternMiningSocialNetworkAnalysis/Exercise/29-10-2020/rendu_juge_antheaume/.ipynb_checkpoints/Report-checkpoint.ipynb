{
 "cells": [
  {
   "cell_type": "markdown",
   "metadata": {},
   "source": [
    "# Report 2 : Clustering\n",
    "\n",
    "\n",
    "Clément Antheaume, Camille-Amaury Juge.\n"
   ]
  },
  {
   "cell_type": "code",
   "execution_count": 1,
   "metadata": {},
   "outputs": [],
   "source": [
    "from IPython.display import Image\n",
    "display(Image(filename='images/nantes.png'))\n"
   ]
  },
  {
   "cell_type": "markdown",
   "metadata": {
    "id": "6zxxUGzQLCkz"
   },
   "source": [
    "## Definition of indicators"
   ]
  },
  {
   "cell_type": "markdown",
   "metadata": {
    "id": "IaCmVpXCLIcW"
   },
   "source": [
    "## Continuous"
   ]
  },
  {
   "cell_type": "markdown",
   "metadata": {
    "id": "-LUZPj1EMKzS"
   },
   "source": [
    "#### Silhouette coefficient :"
   ]
  },
  {
   "cell_type": "markdown",
   "metadata": {},
   "source": [
    "* Average distance of an individual to his suspected class minus the average distance with points from other groups.\n",
    "* Is in the [-1; 1] scope. If the difference is negative, the point is then considered misclassed.\n",
    "* 1 is the best coefficient possible, meaning the point is well classed and -1 the worst, meaning the point can't be more misclassed."
   ]
  },
  {
   "cell_type": "markdown",
   "metadata": {
    "id": "tUo9AeL_OJp6"
   },
   "source": [
    "#### Dunn Index :"
   ]
  },
  {
   "cell_type": "markdown",
   "metadata": {},
   "source": [
    "* Is equal to the maximun distance between two individuals of the same class divided by the minimum distance between two indivudual from different classes.\n",
    "* Any metric can be used, such as Euclidian distance, Manhattan distance, Mahalanobis distance...\n",
    "* Is in the [0; +infinite] scope, with 0 being the worst score possible."
   ]
  },
  {
   "cell_type": "markdown",
   "metadata": {
    "id": "ogIUvHAPQfFm"
   },
   "source": [
    "#### Davies-Bouldin Index :"
   ]
  },
  {
   "cell_type": "markdown",
   "metadata": {},
   "source": [
    "* Is the distance of a individual to the center of its cluster divided by the distance between 2 groups' centers\n",
    "* Is in the [0; +infinite] scope, with 0 being the best score possible."
   ]
  },
  {
   "cell_type": "markdown",
   "metadata": {
    "id": "g--WqIFLLhAE"
   },
   "source": [
    "### Discrete"
   ]
  },
  {
   "cell_type": "markdown",
   "metadata": {
    "id": "9mzCfq_WUGIb"
   },
   "source": [
    "#### Modularity :"
   ]
  },
  {
   "cell_type": "markdown",
   "metadata": {},
   "source": [
    "* Measure the strength of a network/graph division.\n",
    "* The Modularity matrix is equal to the number of edges between two nodes minus the expected number of edges between them, which is equal to the product of their degrees divided by 2 times the number of edges in the graph.\n",
    "* Fails to resolve small communities because the optimization part often merge small communities together."
   ]
  },
  {
   "cell_type": "markdown",
   "metadata": {
    "id": "jYvdwabrcq9M"
   },
   "source": [
    "####  V-measure :"
   ]
  },
  {
   "cell_type": "markdown",
   "metadata": {},
   "source": [
    "* Harmonic mean between homogenity and completeness\n",
    "* Can be computed if you know the labels of the clustered data\n",
    "* (1+beta) * homogenity * completeness / (beta * homogenity + completeness)"
   ]
  },
  {
   "cell_type": "markdown",
   "metadata": {
    "id": "qeWWDc9qLle5"
   },
   "source": [
    "### Validation Techniques"
   ]
  },
  {
   "cell_type": "markdown",
   "metadata": {
    "id": "67dnHc9xzIQg"
   },
   "source": [
    "#### Bootstrapping"
   ]
  },
  {
   "cell_type": "markdown",
   "metadata": {},
   "source": [
    "* The bootstrapping technique is about resampling the data a huge number of times. The resampled data is usually the same size of the initial data, with a random order and even duplicated data.\n",
    "* On each sample, several statistics can be calculated, such as mean, variance, randindex or distances to the center."
   ]
  },
  {
   "cell_type": "markdown",
   "metadata": {
    "id": "ATvsknKW22Bm"
   },
   "source": [
    "#### Jack-knife"
   ]
  },
  {
   "cell_type": "markdown",
   "metadata": {},
   "source": [
    "* The Jack-knife method is a very versatile method used to every. It consists in removing a small sample of the dataset and trying to recompute its statistics, just like a the method above."
   ]
  },
  {
   "cell_type": "markdown",
   "metadata": {
    "id": "2XpUzS9O5jna"
   },
   "source": [
    "####  External cluster validation"
   ]
  },
  {
   "cell_type": "markdown",
   "metadata": {},
   "source": [
    "* Removing the labels of a classification problem, applying a clustering algorithm and compare the predicted class of the individuals to the removed one."
   ]
  },
  {
   "cell_type": "markdown",
   "metadata": {
    "id": "Wnog1hZMVk6-"
   },
   "source": [
    "## Python Part"
   ]
  },
  {
   "cell_type": "markdown",
   "metadata": {},
   "source": [
    "### Imports"
   ]
  },
  {
   "cell_type": "code",
   "execution_count": 2,
   "metadata": {
    "id": "ST2-WGV0WXHs"
   },
   "outputs": [
    {
     "name": "stderr",
     "output_type": "stream",
     "text": [
      "C:\\Users\\CAJug\\anaconda3\\envs\\R_py37\\lib\\site-packages\\sklearn\\utils\\deprecation.py:143: FutureWarning: The sklearn.metrics.classification module is  deprecated in version 0.22 and will be removed in version 0.24. The corresponding classes / functions should instead be imported from sklearn.metrics. Anything that cannot be imported from sklearn.metrics is now part of the private API.\n",
      "  warnings.warn(message, FutureWarning)\n"
     ]
    }
   ],
   "source": [
    "import pandas as pd\n",
    "from sklearn.cluster import KMeans\n",
    "import numpy as np\n",
    "import matplotlib.pyplot as plt\n",
    "from sklearn import metrics\n",
    "from yellowbrick.cluster import KElbowVisualizer"
   ]
  },
  {
   "cell_type": "markdown",
   "metadata": {},
   "source": [
    "### Datasets Meteo"
   ]
  },
  {
   "cell_type": "code",
   "execution_count": 3,
   "metadata": {},
   "outputs": [],
   "source": [
    "features = ['Outlook','Tempreature','Humidity','Windy']\n",
    "classes = ['Umbrella','No umbrella']\n",
    "\n",
    "dic_X = {'sunny' : 0, 'overcast' : 1, 'rain' : 2, 'cool' : 0, 'mild' : 1, 'hot' : 2, True : 1, False : 0, 'high' : 1, 'normal' : 0}\n",
    "dic_Y = {'N' : 0, 'P' : 1}\n",
    "\n",
    "data = pd.read_excel('data/Meteo.xls')\n",
    "X = data.iloc[:,1:-1]\n",
    "Y = data.iloc[:,-1]\n",
    "\n",
    "X2 = X.replace(dic_X)\n",
    "Y2 = Y.replace(dic_Y)"
   ]
  },
  {
   "cell_type": "code",
   "execution_count": 4,
   "metadata": {},
   "outputs": [
    {
     "data": {
      "text/html": [
       "<div>\n",
       "<style scoped>\n",
       "    .dataframe tbody tr th:only-of-type {\n",
       "        vertical-align: middle;\n",
       "    }\n",
       "\n",
       "    .dataframe tbody tr th {\n",
       "        vertical-align: top;\n",
       "    }\n",
       "\n",
       "    .dataframe thead th {\n",
       "        text-align: right;\n",
       "    }\n",
       "</style>\n",
       "<table border=\"1\" class=\"dataframe\">\n",
       "  <thead>\n",
       "    <tr style=\"text-align: right;\">\n",
       "      <th></th>\n",
       "      <th>ID</th>\n",
       "      <th>Outlook</th>\n",
       "      <th>Tempreature</th>\n",
       "      <th>Humidity</th>\n",
       "      <th>Windy</th>\n",
       "      <th>Class</th>\n",
       "    </tr>\n",
       "  </thead>\n",
       "  <tbody>\n",
       "    <tr>\n",
       "      <th>0</th>\n",
       "      <td>1</td>\n",
       "      <td>sunny</td>\n",
       "      <td>hot</td>\n",
       "      <td>high</td>\n",
       "      <td>False</td>\n",
       "      <td>N</td>\n",
       "    </tr>\n",
       "    <tr>\n",
       "      <th>1</th>\n",
       "      <td>2</td>\n",
       "      <td>sunny</td>\n",
       "      <td>hot</td>\n",
       "      <td>high</td>\n",
       "      <td>True</td>\n",
       "      <td>N</td>\n",
       "    </tr>\n",
       "    <tr>\n",
       "      <th>2</th>\n",
       "      <td>3</td>\n",
       "      <td>overcast</td>\n",
       "      <td>hot</td>\n",
       "      <td>high</td>\n",
       "      <td>False</td>\n",
       "      <td>P</td>\n",
       "    </tr>\n",
       "    <tr>\n",
       "      <th>3</th>\n",
       "      <td>4</td>\n",
       "      <td>rain</td>\n",
       "      <td>mild</td>\n",
       "      <td>high</td>\n",
       "      <td>False</td>\n",
       "      <td>P</td>\n",
       "    </tr>\n",
       "    <tr>\n",
       "      <th>4</th>\n",
       "      <td>5</td>\n",
       "      <td>rain</td>\n",
       "      <td>cool</td>\n",
       "      <td>normal</td>\n",
       "      <td>False</td>\n",
       "      <td>P</td>\n",
       "    </tr>\n",
       "  </tbody>\n",
       "</table>\n",
       "</div>"
      ],
      "text/plain": [
       "   ID   Outlook Tempreature Humidity  Windy Class\n",
       "0   1     sunny         hot     high  False     N\n",
       "1   2     sunny         hot     high   True     N\n",
       "2   3  overcast         hot     high  False     P\n",
       "3   4      rain        mild     high  False     P\n",
       "4   5      rain        cool   normal  False     P"
      ]
     },
     "execution_count": 4,
     "metadata": {},
     "output_type": "execute_result"
    }
   ],
   "source": [
    "data.head()"
   ]
  },
  {
   "cell_type": "code",
   "execution_count": 5,
   "metadata": {},
   "outputs": [],
   "source": [
    "kmeans = KMeans(n_clusters=2, random_state=0).fit(X2)"
   ]
  },
  {
   "cell_type": "code",
   "execution_count": 6,
   "metadata": {
    "colab": {
     "base_uri": "https://localhost:8080/"
    },
    "id": "PTf53HWpXdji",
    "outputId": "91346f93-ab8d-4395-e4e5-c1d46952dcb1"
   },
   "outputs": [
    {
     "name": "stdout",
     "output_type": "stream",
     "text": [
      "Homogenity : 0.0014248244292990396 | Completeness : 0.0013598296226430605\n",
      "V-measure : 0.0013915685251279558\n"
     ]
    }
   ],
   "source": [
    "print(\"Homogenity :\", metrics.homogeneity_score(Y2, kmeans.labels_), \n",
    "      \"| Completeness :\", metrics.completeness_score(Y2, kmeans.labels_))\n",
    "print(\"V-measure :\", metrics.v_measure_score(Y2, kmeans.labels_))"
   ]
  },
  {
   "cell_type": "markdown",
   "metadata": {},
   "source": [
    "### Dataset Mushrooms"
   ]
  },
  {
   "cell_type": "code",
   "execution_count": 7,
   "metadata": {
    "colab": {
     "base_uri": "https://localhost:8080/"
    },
    "id": "bJUzZeqmZFu4",
    "outputId": "475736d2-387f-434f-9318-2bff19de062e"
   },
   "outputs": [],
   "source": [
    "classes = ['Comestible','Non comestible']\n",
    "data = pd.read_csv('data/Mushroom.csv')\n",
    "X = data.iloc[:, 1:-1]\n",
    "Y = data.iloc[:,-1]"
   ]
  },
  {
   "cell_type": "code",
   "execution_count": 8,
   "metadata": {},
   "outputs": [
    {
     "data": {
      "text/html": [
       "<div>\n",
       "<style scoped>\n",
       "    .dataframe tbody tr th:only-of-type {\n",
       "        vertical-align: middle;\n",
       "    }\n",
       "\n",
       "    .dataframe tbody tr th {\n",
       "        vertical-align: top;\n",
       "    }\n",
       "\n",
       "    .dataframe thead th {\n",
       "        text-align: right;\n",
       "    }\n",
       "</style>\n",
       "<table border=\"1\" class=\"dataframe\">\n",
       "  <thead>\n",
       "    <tr style=\"text-align: right;\">\n",
       "      <th></th>\n",
       "      <th>Id</th>\n",
       "      <th>Odorant</th>\n",
       "      <th>Anneau</th>\n",
       "      <th>Chapeau bombe</th>\n",
       "      <th>Piedlarge</th>\n",
       "      <th>Taches</th>\n",
       "      <th>Comestible</th>\n",
       "    </tr>\n",
       "  </thead>\n",
       "  <tbody>\n",
       "    <tr>\n",
       "      <th>0</th>\n",
       "      <td>1</td>\n",
       "      <td>1</td>\n",
       "      <td>0</td>\n",
       "      <td>1</td>\n",
       "      <td>1</td>\n",
       "      <td>0</td>\n",
       "      <td>1</td>\n",
       "    </tr>\n",
       "    <tr>\n",
       "      <th>1</th>\n",
       "      <td>2</td>\n",
       "      <td>1</td>\n",
       "      <td>0</td>\n",
       "      <td>1</td>\n",
       "      <td>1</td>\n",
       "      <td>1</td>\n",
       "      <td>1</td>\n",
       "    </tr>\n",
       "    <tr>\n",
       "      <th>2</th>\n",
       "      <td>3</td>\n",
       "      <td>0</td>\n",
       "      <td>0</td>\n",
       "      <td>1</td>\n",
       "      <td>1</td>\n",
       "      <td>1</td>\n",
       "      <td>1</td>\n",
       "    </tr>\n",
       "    <tr>\n",
       "      <th>3</th>\n",
       "      <td>4</td>\n",
       "      <td>1</td>\n",
       "      <td>0</td>\n",
       "      <td>0</td>\n",
       "      <td>1</td>\n",
       "      <td>1</td>\n",
       "      <td>0</td>\n",
       "    </tr>\n",
       "    <tr>\n",
       "      <th>4</th>\n",
       "      <td>5</td>\n",
       "      <td>0</td>\n",
       "      <td>0</td>\n",
       "      <td>1</td>\n",
       "      <td>1</td>\n",
       "      <td>0</td>\n",
       "      <td>1</td>\n",
       "    </tr>\n",
       "  </tbody>\n",
       "</table>\n",
       "</div>"
      ],
      "text/plain": [
       "   Id  Odorant  Anneau  Chapeau bombe  Piedlarge  Taches  Comestible\n",
       "0   1        1       0              1          1       0           1\n",
       "1   2        1       0              1          1       1           1\n",
       "2   3        0       0              1          1       1           1\n",
       "3   4        1       0              0          1       1           0\n",
       "4   5        0       0              1          1       0           1"
      ]
     },
     "execution_count": 8,
     "metadata": {},
     "output_type": "execute_result"
    }
   ],
   "source": [
    "data.head()"
   ]
  },
  {
   "cell_type": "code",
   "execution_count": 9,
   "metadata": {},
   "outputs": [],
   "source": [
    "kmeans = KMeans(n_clusters=2, random_state=0).fit(X)"
   ]
  },
  {
   "cell_type": "code",
   "execution_count": 10,
   "metadata": {
    "colab": {
     "base_uri": "https://localhost:8080/"
    },
    "id": "5Omln4dnZN0m",
    "outputId": "74201349-038e-44ff-dc5f-5faf6b206101"
   },
   "outputs": [
    {
     "name": "stdout",
     "output_type": "stream",
     "text": [
      "Homogenity : 0.008613264733993205 | Completeness : 0.007131315506727338\n",
      "V-measure : 0.007802546326666939\n"
     ]
    }
   ],
   "source": [
    "print(\"Homogenity :\", metrics.homogeneity_score(Y, kmeans.labels_), \n",
    "      \"| Completeness :\", metrics.completeness_score(Y, kmeans.labels_))\n",
    "print(\"V-measure :\", metrics.v_measure_score(Y, kmeans.labels_))"
   ]
  },
  {
   "cell_type": "code",
   "execution_count": 11,
   "metadata": {
    "colab": {
     "base_uri": "https://localhost:8080/"
    },
    "id": "6M9v5nsEzvb8",
    "outputId": "f99069d1-3ce0-4f16-8b5e-058e865d17a0"
   },
   "outputs": [
    {
     "name": "stdout",
     "output_type": "stream",
     "text": [
      "Scores : Silhouette, Davies Bouldin\n"
     ]
    },
    {
     "data": {
      "text/plain": [
       "(0.29605442672133603, 1.5305580696350314)"
      ]
     },
     "execution_count": 11,
     "metadata": {},
     "output_type": "execute_result"
    }
   ],
   "source": [
    "print(\"Scores : Silhouette, Davies Bouldin\")\n",
    "metrics.silhouette_score(X,kmeans.labels_), metrics.davies_bouldin_score(X,kmeans.labels_)"
   ]
  },
  {
   "cell_type": "markdown",
   "metadata": {
    "id": "YWf_ejYBZ_s7"
   },
   "source": [
    "### Results\n",
    "\n",
    "In the given examples, kmeans with two clusters dosen't seem to separate well our classes in the expected groups, wether we chose to label 1 as 1 or 1 as 0. There are a lot of differences on theses basic dataframes."
   ]
  },
  {
   "cell_type": "markdown",
   "metadata": {},
   "source": [
    "### Explanation\n",
    "\n",
    "Because our dataframes are small and we already know which classes we are expecting, clustering is not an appropriate solution to get any information. Because our data is structured, it is easier and more accurate to use classification in order to predict our classes.\n",
    "\n",
    "Now, let's try with another dataset, made of random numbers (unorganized data) and try a few kmeans iterations to find out a good cluster number"
   ]
  },
  {
   "cell_type": "code",
   "execution_count": 12,
   "metadata": {
    "colab": {
     "base_uri": "https://localhost:8080/",
     "height": 1000
    },
    "id": "YN9hvlbBdI1A",
    "outputId": "e45edecb-6b44-4b85-9a55-811181d30497",
    "scrolled": false
   },
   "outputs": [],
   "source": [
    "data = np.random.rand(100,2)    "
   ]
  },
  {
   "cell_type": "code",
   "execution_count": 13,
   "metadata": {},
   "outputs": [
    {
     "data": {
      "image/png": "[encoded data removed]",
      "text/plain": [
       "<Figure size 576x396 with 1 Axes>"
      ]
     },
     "metadata": {},
     "output_type": "display_data"
    }
   ],
   "source": [
    "fig = plt.figure()\n",
    "kmeans = KMeans(n_clusters=2, random_state=0).fit(data)\n",
    "plt.scatter(data[:,0],data[:,1],c=kmeans.labels_)\n",
    "plt.scatter(kmeans.cluster_centers_[:,0],kmeans.cluster_centers_[:,1],c='r')\n",
    "plt.show()"
   ]
  },
  {
   "cell_type": "code",
   "execution_count": 14,
   "metadata": {},
   "outputs": [
    {
     "data": {
      "image/png": "[encoded data removed]",
      "text/plain": [
       "<Figure size 576x396 with 1 Axes>"
      ]
     },
     "metadata": {},
     "output_type": "display_data"
    }
   ],
   "source": [
    "fig = plt.figure()\n",
    "kmeans = KMeans(n_clusters=3, random_state=0).fit(data)\n",
    "plt.scatter(data[:,0],data[:,1],c=kmeans.labels_)\n",
    "plt.scatter(kmeans.cluster_centers_[:,0],kmeans.cluster_centers_[:,1],c='r')\n",
    "plt.show()"
   ]
  },
  {
   "cell_type": "code",
   "execution_count": 15,
   "metadata": {},
   "outputs": [
    {
     "data": {
      "image/png": "[encoded data removed]",
      "text/plain": [
       "<Figure size 576x396 with 1 Axes>"
      ]
     },
     "metadata": {},
     "output_type": "display_data"
    }
   ],
   "source": [
    "fig = plt.figure()\n",
    "kmeans = KMeans(n_clusters=5, random_state=0).fit(data)\n",
    "plt.scatter(data[:,0],data[:,1],c=kmeans.labels_)\n",
    "plt.scatter(kmeans.cluster_centers_[:,0],kmeans.cluster_centers_[:,1],c='r')\n",
    "plt.show()"
   ]
  },
  {
   "cell_type": "code",
   "execution_count": 16,
   "metadata": {},
   "outputs": [
    {
     "data": {
      "image/png": "[encoded data removed]",
      "text/plain": [
       "<Figure size 576x396 with 1 Axes>"
      ]
     },
     "metadata": {},
     "output_type": "display_data"
    }
   ],
   "source": [
    "fig = plt.figure()\n",
    "kmeans = KMeans(n_clusters=10, random_state=0).fit(data)\n",
    "plt.scatter(data[:,0],data[:,1],c=kmeans.labels_)\n",
    "plt.scatter(kmeans.cluster_centers_[:,0],kmeans.cluster_centers_[:,1],c='r')\n",
    "plt.show()"
   ]
  },
  {
   "cell_type": "markdown",
   "metadata": {
    "id": "hBErTopXoMcp"
   },
   "source": [
    "Just like classification, with a big k, k-means is creating cluster which fits the data so much a prediction wouldn't be accurate because of the clusters being so close from each other. So how to find a good k?\n",
    "\n",
    "We can use for example the elbow rule, which computes the distortion or the silhouette for each k possible in a given coutinuous set"
   ]
  },
  {
   "cell_type": "markdown",
   "metadata": {
    "id": "pEDG67hJlsYq"
   },
   "source": [
    "## Clustering Validation\n",
    "\n",
    "Before trying to explore a validation technique stated above, we are going to use the elbow method to determine an approximative k in a given range to see which k would allow us to create great clusters."
   ]
  },
  {
   "cell_type": "code",
   "execution_count": 17,
   "metadata": {
    "colab": {
     "base_uri": "https://localhost:8080/",
     "height": 469
    },
    "id": "oxdm7P14oxKb",
    "outputId": "009b9d00-88c6-491a-d17c-11ba198fc676"
   },
   "outputs": [
    {
     "name": "stderr",
     "output_type": "stream",
     "text": [
      "C:\\Users\\CAJug\\anaconda3\\envs\\R_py37\\lib\\site-packages\\sklearn\\base.py:213: FutureWarning: From version 0.24, get_params will raise an AttributeError if a parameter cannot be retrieved as an instance attribute. Previously it would return None.\n",
      "  FutureWarning)\n"
     ]
    },
    {
     "data": {
      "text/plain": [
       "KElbowVisualizer(ax=<AxesSubplot:>, k=None, metric='silhouette', model=None)"
      ]
     },
     "execution_count": 17,
     "metadata": {},
     "output_type": "execute_result"
    },
    {
     "data": {
      "image/png": "[encoded data removed]",
      "text/plain": [
       "<Figure size 576x396 with 2 Axes>"
      ]
     },
     "metadata": {},
     "output_type": "display_data"
    }
   ],
   "source": [
    "visualizer = KElbowVisualizer(kmeans, k=(2,20), metric='silhouette')\n",
    "visualizer.fit(data)"
   ]
  },
  {
   "cell_type": "code",
   "execution_count": 18,
   "metadata": {
    "colab": {
     "base_uri": "https://localhost:8080/",
     "height": 437
    },
    "id": "qNizpGDhtaX1",
    "outputId": "b61ec385-9e24-4325-f627-4d7a8a63109e"
   },
   "outputs": [
    {
     "name": "stderr",
     "output_type": "stream",
     "text": [
      "C:\\Users\\CAJug\\anaconda3\\envs\\R_py37\\lib\\site-packages\\sklearn\\base.py:213: FutureWarning: From version 0.24, get_params will raise an AttributeError if a parameter cannot be retrieved as an instance attribute. Previously it would return None.\n",
      "  FutureWarning)\n"
     ]
    },
    {
     "data": {
      "text/plain": [
       "KElbowVisualizer(ax=<AxesSubplot:>, k=None, model=None)"
      ]
     },
     "execution_count": 18,
     "metadata": {},
     "output_type": "execute_result"
    },
    {
     "data": {
      "image/png": "[encoded data removed]",
      "text/plain": [
       "<Figure size 576x396 with 2 Axes>"
      ]
     },
     "metadata": {},
     "output_type": "display_data"
    }
   ],
   "source": [
    "visualizer = KElbowVisualizer(kmeans, k=(2,20),metric='distortion')\n",
    "visualizer.fit(data)"
   ]
  },
  {
   "cell_type": "markdown",
   "metadata": {
    "id": "5FWFo_NCt_WK"
   },
   "source": [
    "On this generation, the best k according to the silhouette score is k = 10. For this k we notice a peak on the distortion score which then leads to a smoother slope. So there is a chance we are getting a good number of clusters for this distribution."
   ]
  },
  {
   "cell_type": "markdown",
   "metadata": {
    "id": "-zMGu5Hrmy5o"
   },
   "source": [
    "### Bootstrapping"
   ]
  },
  {
   "cell_type": "code",
   "execution_count": 19,
   "metadata": {
    "id": "BrGghkesm0zh"
   },
   "outputs": [],
   "source": [
    "def bootstrapping(data=np.random.rand(100,2), iteration=10, k=5):\n",
    "    # Variables to work with\n",
    "    size = data.shape[0]\n",
    "    data_df = pd.DataFrame(data)\n",
    "    df = pd.DataFrame()\n",
    "    samples = []\n",
    "    inertia = []\n",
    "    silhouette = []\n",
    "\n",
    "    for j in range(iteration):\n",
    "        # Build samples\n",
    "        i = 0\n",
    "        while i < size :\n",
    "            df = df.append(data_df.sample())\n",
    "            i+=1\n",
    "        samples.append(df)\n",
    "  \n",
    "    for sample in samples:\n",
    "        km = KMeans(n_clusters=k, random_state=0).fit(sample)\n",
    "        inertia.append(km.inertia_)\n",
    "    \n",
    "        silhouette.append(metrics.silhouette_score(sample,km.labels_))\n",
    "  \n",
    "    print(\"Average Silhouette score =\", np.mean(silhouette))\n",
    "    print(\"Average inertia =\",np.mean(inertia))"
   ]
  },
  {
   "cell_type": "code",
   "execution_count": 21,
   "metadata": {
    "colab": {
     "base_uri": "https://localhost:8080/"
    },
    "id": "ufNcOoEepZvJ",
    "outputId": "4e90ca90-194c-4e2f-f425-3fcb1907f01b"
   },
   "outputs": [
    {
     "name": "stdout",
     "output_type": "stream",
     "text": [
      "Average Silhouette score = 0.45809107224876505\n",
      "Average inertia = 24.182625389992833\n"
     ]
    }
   ],
   "source": [
    "# Iteration : numbers of sample generated and fit to the model, k : a given k\n",
    "bootstrapping(data,iteration=20,k=6)"
   ]
  },
  {
   "cell_type": "markdown",
   "metadata": {
    "id": "Ub_vC1rUuEby"
   },
   "source": [
    "Bootstrapping shows us our kmeans over dimensional coordinates works well since its mean value is almost at 0.5 in a [-1, 1] scope. The inertia is also high considering distances of individuals to their centers is below sqrt(2) in this dimensional space, meaning the clusters are coherent."
   ]
  },
  {
   "cell_type": "markdown",
   "metadata": {},
   "source": [
    "## R Part"
   ]
  },
  {
   "cell_type": "code",
   "execution_count": null,
   "metadata": {},
   "outputs": [],
   "source": []
  }
 ],
 "metadata": {
  "colab": {
   "collapsed_sections": [],
   "name": "PMSNA - Clustering.ipynb",
   "provenance": [],
   "toc_visible": true
  },
  "kernelspec": {
   "display_name": "Python 3",
   "language": "python",
   "name": "python3"
  },
  "language_info": {
   "codemirror_mode": {
    "name": "ipython",
    "version": 3
   },
   "file_extension": ".py",
   "mimetype": "text/x-python",
   "name": "python",
   "nbconvert_exporter": "python",
   "pygments_lexer": "ipython3",
   "version": "3.7.9"
  }
 },
 "nbformat": 4,
 "nbformat_minor": 1
}
