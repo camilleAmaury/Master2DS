{
 "cells": [
  {
   "cell_type": "markdown",
   "metadata": {},
   "source": [
    "# R - Clustering Analysis"
   ]
  },
  {
   "cell_type": "markdown",
   "metadata": {},
   "source": [
    "The dataset : https://www.kaggle.com/carlolepelaars/toy-dataset\n",
    "\n",
    "Content :\n",
    "\n",
    "Note: All data is fictional. The data has been generated so that their distributions are convenient for statistical analysis.\n",
    "\n",
    "* Number: A simple index number for each row\n",
    "* City: The location of a person (Dallas, New York City, Los Angeles, Mountain View, Boston, Washington D.C., San Diego and Austin)\n",
    "* Gender: Gender of a person (Male or Female)\n",
    "* Age: The age of a person (Ranging from 25 to 65 years)\n",
    "* Income: Annual income of a person (Ranging from -674 to 177175)\n",
    "* Illness: Is the person Ill? (Yes or No)"
   ]
  },
  {
   "cell_type": "markdown",
   "metadata": {},
   "source": [
    "## Dataset Analysis And preprocessing"
   ]
  },
  {
   "cell_type": "markdown",
   "metadata": {},
   "source": [
    "### Imports"
   ]
  },
  {
   "cell_type": "code",
   "execution_count": 1,
   "metadata": {},
   "outputs": [
    {
     "data": {
      "text/plain": [
       "<environment: namespace:psych>"
      ]
     },
     "metadata": {},
     "output_type": "display_data"
    },
    {
     "name": "stderr",
     "output_type": "stream",
     "text": [
      "Registered S3 methods overwritten by 'ggplot2':\n",
      "  method         from \n",
      "  [.quosures     rlang\n",
      "  c.quosures     rlang\n",
      "  print.quosures rlang\n",
      "Warning message:\n",
      "\"package 'ade4' was built under R version 3.6.3\"Warning message:\n",
      "\"package 'factoextra' was built under R version 3.6.3\"Welcome! Want to learn more? See two factoextra-related books at https://goo.gl/ve3WBa\n"
     ]
    }
   ],
   "source": [
    "library(namespace)\n",
    "registerNamespace('psy', loadNamespace('psych'))\n",
    "library(ggplot2)\n",
    "library(reshape2)\n",
    "library(\"IRdisplay\")\n",
    "library(ade4)\n",
    "library(factoextra)\n",
    "library(NbClust)\n",
    "library(bootcluster)"
   ]
  },
  {
   "cell_type": "code",
   "execution_count": 2,
   "metadata": {},
   "outputs": [
    {
     "data": {
      "text/html": [
       "<table>\n",
       "<thead><tr><th scope=col>City</th><th scope=col>Gender</th><th scope=col>Age</th><th scope=col>Income</th><th scope=col>Illness</th></tr></thead>\n",
       "<tbody>\n",
       "\t<tr><td>Dallas</td><td>Male  </td><td>41    </td><td>40367 </td><td>No    </td></tr>\n",
       "\t<tr><td>Dallas</td><td>Male  </td><td>54    </td><td>45084 </td><td>No    </td></tr>\n",
       "\t<tr><td>Dallas</td><td>Male  </td><td>42    </td><td>52483 </td><td>No    </td></tr>\n",
       "\t<tr><td>Dallas</td><td>Male  </td><td>40    </td><td>40941 </td><td>No    </td></tr>\n",
       "\t<tr><td>Dallas</td><td>Male  </td><td>46    </td><td>50289 </td><td>No    </td></tr>\n",
       "\t<tr><td>Dallas</td><td>Female</td><td>36    </td><td>50786 </td><td>No    </td></tr>\n",
       "</tbody>\n",
       "</table>\n"
      ],
      "text/latex": [
       "\\begin{tabular}{r|lllll}\n",
       " City & Gender & Age & Income & Illness\\\\\n",
       "\\hline\n",
       "\t Dallas & Male   & 41     & 40367  & No    \\\\\n",
       "\t Dallas & Male   & 54     & 45084  & No    \\\\\n",
       "\t Dallas & Male   & 42     & 52483  & No    \\\\\n",
       "\t Dallas & Male   & 40     & 40941  & No    \\\\\n",
       "\t Dallas & Male   & 46     & 50289  & No    \\\\\n",
       "\t Dallas & Female & 36     & 50786  & No    \\\\\n",
       "\\end{tabular}\n"
      ],
      "text/markdown": [
       "\n",
       "| City | Gender | Age | Income | Illness |\n",
       "|---|---|---|---|---|\n",
       "| Dallas | Male   | 41     | 40367  | No     |\n",
       "| Dallas | Male   | 54     | 45084  | No     |\n",
       "| Dallas | Male   | 42     | 52483  | No     |\n",
       "| Dallas | Male   | 40     | 40941  | No     |\n",
       "| Dallas | Male   | 46     | 50289  | No     |\n",
       "| Dallas | Female | 36     | 50786  | No     |\n",
       "\n"
      ],
      "text/plain": [
       "  City   Gender Age Income Illness\n",
       "1 Dallas Male   41  40367  No     \n",
       "2 Dallas Male   54  45084  No     \n",
       "3 Dallas Male   42  52483  No     \n",
       "4 Dallas Male   40  40941  No     \n",
       "5 Dallas Male   46  50289  No     \n",
       "6 Dallas Female 36  50786  No     "
      ]
     },
     "metadata": {},
     "output_type": "display_data"
    }
   ],
   "source": [
    "csv <- read.csv(\"data/toy_dataset.csv\", header = TRUE)\n",
    "head(csv[,2:ncol(csv)])"
   ]
  },
  {
   "cell_type": "markdown",
   "metadata": {},
   "source": [
    "### Data Understanding"
   ]
  },
  {
   "cell_type": "markdown",
   "metadata": {},
   "source": [
    "#### Univariate Analysis"
   ]
  },
  {
   "cell_type": "code",
   "execution_count": 3,
   "metadata": {},
   "outputs": [
    {
     "data": {
      "text/html": [
       "<table>\n",
       "<thead><tr><th></th><th scope=col>Var1</th><th scope=col>Freq</th></tr></thead>\n",
       "<tbody>\n",
       "\t<tr><th scope=row>7</th><td>San Diego      </td><td> 4881          </td></tr>\n",
       "\t<tr><th scope=row>8</th><td>Washington D.C.</td><td> 8120          </td></tr>\n",
       "\t<tr><th scope=row>2</th><td>Boston         </td><td> 8301          </td></tr>\n",
       "\t<tr><th scope=row>1</th><td>Austin         </td><td>12292          </td></tr>\n",
       "\t<tr><th scope=row>5</th><td>Mountain View  </td><td>14219          </td></tr>\n",
       "\t<tr><th scope=row>3</th><td>Dallas         </td><td>19707          </td></tr>\n",
       "\t<tr><th scope=row>4</th><td>Los Angeles    </td><td>32173          </td></tr>\n",
       "\t<tr><th scope=row>6</th><td>New York City  </td><td>50307          </td></tr>\n",
       "</tbody>\n",
       "</table>\n"
      ],
      "text/latex": [
       "\\begin{tabular}{r|ll}\n",
       "  & Var1 & Freq\\\\\n",
       "\\hline\n",
       "\t7 & San Diego       &  4881          \\\\\n",
       "\t8 & Washington D.C. &  8120          \\\\\n",
       "\t2 & Boston          &  8301          \\\\\n",
       "\t1 & Austin          & 12292          \\\\\n",
       "\t5 & Mountain View   & 14219          \\\\\n",
       "\t3 & Dallas          & 19707          \\\\\n",
       "\t4 & Los Angeles     & 32173          \\\\\n",
       "\t6 & New York City   & 50307          \\\\\n",
       "\\end{tabular}\n"
      ],
      "text/markdown": [
       "\n",
       "| <!--/--> | Var1 | Freq |\n",
       "|---|---|---|\n",
       "| 7 | San Diego       |  4881           |\n",
       "| 8 | Washington D.C. |  8120           |\n",
       "| 2 | Boston          |  8301           |\n",
       "| 1 | Austin          | 12292           |\n",
       "| 5 | Mountain View   | 14219           |\n",
       "| 3 | Dallas          | 19707           |\n",
       "| 4 | Los Angeles     | 32173           |\n",
       "| 6 | New York City   | 50307           |\n",
       "\n"
      ],
      "text/plain": [
       "  Var1            Freq \n",
       "7 San Diego        4881\n",
       "8 Washington D.C.  8120\n",
       "2 Boston           8301\n",
       "1 Austin          12292\n",
       "5 Mountain View   14219\n",
       "3 Dallas          19707\n",
       "4 Los Angeles     32173\n",
       "6 New York City   50307"
      ]
     },
     "metadata": {},
     "output_type": "display_data"
    }
   ],
   "source": [
    "df <- as.data.frame(table(csv[,2]))\n",
    "df[order(df$Freq),]"
   ]
  },
  {
   "cell_type": "markdown",
   "metadata": {},
   "source": [
    "We can see that the cities are unequally proportionnate in this dataset, and this could lead to bias in our models."
   ]
  },
  {
   "cell_type": "code",
   "execution_count": 4,
   "metadata": {},
   "outputs": [
    {
     "data": {
      "text/html": [
       "<table>\n",
       "<thead><tr><th scope=col>Var1</th><th scope=col>Freq</th></tr></thead>\n",
       "<tbody>\n",
       "\t<tr><td>Female</td><td>66200 </td></tr>\n",
       "\t<tr><td>Male  </td><td>83800 </td></tr>\n",
       "</tbody>\n",
       "</table>\n"
      ],
      "text/latex": [
       "\\begin{tabular}{r|ll}\n",
       " Var1 & Freq\\\\\n",
       "\\hline\n",
       "\t Female & 66200 \\\\\n",
       "\t Male   & 83800 \\\\\n",
       "\\end{tabular}\n"
      ],
      "text/markdown": [
       "\n",
       "| Var1 | Freq |\n",
       "|---|---|\n",
       "| Female | 66200  |\n",
       "| Male   | 83800  |\n",
       "\n"
      ],
      "text/plain": [
       "  Var1   Freq \n",
       "1 Female 66200\n",
       "2 Male   83800"
      ]
     },
     "metadata": {},
     "output_type": "display_data"
    }
   ],
   "source": [
    "df <- as.data.frame(table(csv[,3]))\n",
    "df[order(df$Freq),]"
   ]
  },
  {
   "cell_type": "markdown",
   "metadata": {},
   "source": [
    "Women are less present in this dataset than men, we should take it in account too"
   ]
  },
  {
   "cell_type": "code",
   "execution_count": 5,
   "metadata": {},
   "outputs": [
    {
     "data": {
      "image/png": "[encoded data removed]",
      "text/plain": [
       "Plot with title \"Distribution of ages\""
      ]
     },
     "metadata": {},
     "output_type": "display_data"
    }
   ],
   "source": [
    "hist(csv[,4], breaks=pretty(csv[,4],5), col=\"red\", xlab=\"Age categories\", main=\"Distribution of ages\")"
   ]
  },
  {
   "cell_type": "markdown",
   "metadata": {},
   "source": [
    "Same conclusion as before, we can see that the ages follows a normal distribution, centered around 45 years old. Then, old (over 60 years old) and young (below 20 years old) people are less represented."
   ]
  },
  {
   "cell_type": "code",
   "execution_count": 6,
   "metadata": {},
   "outputs": [
    {
     "data": {
      "image/png": "[encoded data removed]",
      "text/plain": [
       "Plot with title \"Distribution of incomes\""
      ]
     },
     "metadata": {},
     "output_type": "display_data"
    }
   ],
   "source": [
    "hist(csv[,5], breaks=pretty(csv[,5],1000), col=\"red\", xlab=\"Incomes Category\", main=\"Distribution of incomes\")"
   ]
  },
  {
   "cell_type": "markdown",
   "metadata": {},
   "source": [
    "Here is a relatively more complex distribution with a high peak around 95000 units per year, and with some less high peaks  : fortunate people around 130000 units per year, and less fortunate people around 50000 units per year."
   ]
  },
  {
   "cell_type": "code",
   "execution_count": 7,
   "metadata": {},
   "outputs": [
    {
     "data": {
      "text/html": [
       "<table>\n",
       "<thead><tr><th></th><th scope=col>Var1</th><th scope=col>Freq</th></tr></thead>\n",
       "<tbody>\n",
       "\t<tr><th scope=row>2</th><td>Yes   </td><td> 12139</td></tr>\n",
       "\t<tr><th scope=row>1</th><td>No    </td><td>137861</td></tr>\n",
       "</tbody>\n",
       "</table>\n"
      ],
      "text/latex": [
       "\\begin{tabular}{r|ll}\n",
       "  & Var1 & Freq\\\\\n",
       "\\hline\n",
       "\t2 & Yes    &  12139\\\\\n",
       "\t1 & No     & 137861\\\\\n",
       "\\end{tabular}\n"
      ],
      "text/markdown": [
       "\n",
       "| <!--/--> | Var1 | Freq |\n",
       "|---|---|---|\n",
       "| 2 | Yes    |  12139 |\n",
       "| 1 | No     | 137861 |\n",
       "\n"
      ],
      "text/plain": [
       "  Var1 Freq  \n",
       "2 Yes   12139\n",
       "1 No   137861"
      ]
     },
     "metadata": {},
     "output_type": "display_data"
    }
   ],
   "source": [
    "df <- as.data.frame(table(csv[,6]))\n",
    "df[order(df$Freq),]"
   ]
  },
  {
   "cell_type": "markdown",
   "metadata": {},
   "source": [
    "Lastly, we can see that our dataset contains less than a 10% ratio on Ill and Safe people."
   ]
  },
  {
   "cell_type": "markdown",
   "metadata": {},
   "source": [
    "#### Bivariate Analysis"
   ]
  },
  {
   "cell_type": "markdown",
   "metadata": {},
   "source": [
    "For the simplicity of this analysis, we will only try to evaluate the combination of each row with Illness."
   ]
  },
  {
   "cell_type": "code",
   "execution_count": 8,
   "metadata": {},
   "outputs": [
    {
     "data": {
      "text/html": [
       "<table>\n",
       "<thead><tr><th></th><th scope=col>City</th><th scope=col>Illness</th><th scope=col>Freq</th></tr></thead>\n",
       "<tbody>\n",
       "\t<tr><th scope=row>1</th><td>Austin         </td><td>No             </td><td>11281          </td></tr>\n",
       "\t<tr><th scope=row>9</th><td>Austin         </td><td>Yes            </td><td> 1011          </td></tr>\n",
       "\t<tr><th scope=row>2</th><td>Boston         </td><td>No             </td><td> 7615          </td></tr>\n",
       "\t<tr><th scope=row>10</th><td>Boston         </td><td>Yes            </td><td>  686          </td></tr>\n",
       "\t<tr><th scope=row>3</th><td>Dallas         </td><td>No             </td><td>18094          </td></tr>\n",
       "\t<tr><th scope=row>11</th><td>Dallas         </td><td>Yes            </td><td> 1613          </td></tr>\n",
       "\t<tr><th scope=row>4</th><td>Los Angeles    </td><td>No             </td><td>29605          </td></tr>\n",
       "\t<tr><th scope=row>12</th><td>Los Angeles    </td><td>Yes            </td><td> 2568          </td></tr>\n",
       "\t<tr><th scope=row>5</th><td>Mountain View  </td><td>No             </td><td>13041          </td></tr>\n",
       "\t<tr><th scope=row>13</th><td>Mountain View  </td><td>Yes            </td><td> 1178          </td></tr>\n",
       "\t<tr><th scope=row>6</th><td>New York City  </td><td>No             </td><td>46286          </td></tr>\n",
       "\t<tr><th scope=row>14</th><td>New York City  </td><td>Yes            </td><td> 4021          </td></tr>\n",
       "\t<tr><th scope=row>7</th><td>San Diego      </td><td>No             </td><td> 4487          </td></tr>\n",
       "\t<tr><th scope=row>15</th><td>San Diego      </td><td>Yes            </td><td>  394          </td></tr>\n",
       "\t<tr><th scope=row>8</th><td>Washington D.C.</td><td>No             </td><td> 7452          </td></tr>\n",
       "\t<tr><th scope=row>16</th><td>Washington D.C.</td><td>Yes            </td><td>  668          </td></tr>\n",
       "</tbody>\n",
       "</table>\n"
      ],
      "text/latex": [
       "\\begin{tabular}{r|lll}\n",
       "  & City & Illness & Freq\\\\\n",
       "\\hline\n",
       "\t1 & Austin          & No              & 11281          \\\\\n",
       "\t9 & Austin          & Yes             &  1011          \\\\\n",
       "\t2 & Boston          & No              &  7615          \\\\\n",
       "\t10 & Boston          & Yes             &   686          \\\\\n",
       "\t3 & Dallas          & No              & 18094          \\\\\n",
       "\t11 & Dallas          & Yes             &  1613          \\\\\n",
       "\t4 & Los Angeles     & No              & 29605          \\\\\n",
       "\t12 & Los Angeles     & Yes             &  2568          \\\\\n",
       "\t5 & Mountain View   & No              & 13041          \\\\\n",
       "\t13 & Mountain View   & Yes             &  1178          \\\\\n",
       "\t6 & New York City   & No              & 46286          \\\\\n",
       "\t14 & New York City   & Yes             &  4021          \\\\\n",
       "\t7 & San Diego       & No              &  4487          \\\\\n",
       "\t15 & San Diego       & Yes             &   394          \\\\\n",
       "\t8 & Washington D.C. & No              &  7452          \\\\\n",
       "\t16 & Washington D.C. & Yes             &   668          \\\\\n",
       "\\end{tabular}\n"
      ],
      "text/markdown": [
       "\n",
       "| <!--/--> | City | Illness | Freq |\n",
       "|---|---|---|---|\n",
       "| 1 | Austin          | No              | 11281           |\n",
       "| 9 | Austin          | Yes             |  1011           |\n",
       "| 2 | Boston          | No              |  7615           |\n",
       "| 10 | Boston          | Yes             |   686           |\n",
       "| 3 | Dallas          | No              | 18094           |\n",
       "| 11 | Dallas          | Yes             |  1613           |\n",
       "| 4 | Los Angeles     | No              | 29605           |\n",
       "| 12 | Los Angeles     | Yes             |  2568           |\n",
       "| 5 | Mountain View   | No              | 13041           |\n",
       "| 13 | Mountain View   | Yes             |  1178           |\n",
       "| 6 | New York City   | No              | 46286           |\n",
       "| 14 | New York City   | Yes             |  4021           |\n",
       "| 7 | San Diego       | No              |  4487           |\n",
       "| 15 | San Diego       | Yes             |   394           |\n",
       "| 8 | Washington D.C. | No              |  7452           |\n",
       "| 16 | Washington D.C. | Yes             |   668           |\n",
       "\n"
      ],
      "text/plain": [
       "   City            Illness Freq \n",
       "1  Austin          No      11281\n",
       "9  Austin          Yes      1011\n",
       "2  Boston          No       7615\n",
       "10 Boston          Yes       686\n",
       "3  Dallas          No      18094\n",
       "11 Dallas          Yes      1613\n",
       "4  Los Angeles     No      29605\n",
       "12 Los Angeles     Yes      2568\n",
       "5  Mountain View   No      13041\n",
       "13 Mountain View   Yes      1178\n",
       "6  New York City   No      46286\n",
       "14 New York City   Yes      4021\n",
       "7  San Diego       No       4487\n",
       "15 San Diego       Yes       394\n",
       "8  Washington D.C. No       7452\n",
       "16 Washington D.C. Yes       668"
      ]
     },
     "metadata": {},
     "output_type": "display_data"
    }
   ],
   "source": [
    "df <- as.data.frame(table(csv[,c(2,6)]))\n",
    "df[order(df$City),]"
   ]
  },
  {
   "cell_type": "code",
   "execution_count": 9,
   "metadata": {},
   "outputs": [],
   "source": [
    "prop <- c()\n",
    "rows = nrow(df)/2\n",
    "for(i in 1:rows){\n",
    "    prop <- c(prop, df$Freq[i+rows]/df$Freq[i])\n",
    "}\n",
    "prop <- as.data.frame(list(\"City\"=df$City, \"Proportion\"=prop))"
   ]
  },
  {
   "cell_type": "code",
   "execution_count": 10,
   "metadata": {},
   "outputs": [
    {
     "data": {
      "image/png": "[encoded data removed]",
      "text/plain": [
       "plot without title"
      ]
     },
     "metadata": {},
     "output_type": "display_data"
    }
   ],
   "source": [
    "ggplot(data=prop, aes(x=City, y=Proportion)) +\n",
    "  geom_bar(stat=\"identity\", fill=\"steelblue\") +\n",
    "  geom_text(aes(label=round(Proportion,4)), vjust=1.6, color=\"white\", size=3) +\n",
    "  theme(axis.text.y=element_blank(),\n",
    "        axis.ticks.y=element_blank())"
   ]
  },
  {
   "cell_type": "markdown",
   "metadata": {},
   "source": [
    "As we can see, each city as quite the same amount of ill person, it means that it is not a deterministic factor : there are no real correlation between those columns."
   ]
  },
  {
   "cell_type": "code",
   "execution_count": 11,
   "metadata": {},
   "outputs": [
    {
     "data": {
      "text/html": [
       "<table>\n",
       "<thead><tr><th></th><th scope=col>Gender</th><th scope=col>Illness</th><th scope=col>Freq</th></tr></thead>\n",
       "<tbody>\n",
       "\t<tr><th scope=row>1</th><td>Female</td><td>No    </td><td>60869 </td></tr>\n",
       "\t<tr><th scope=row>3</th><td>Female</td><td>Yes   </td><td> 5331 </td></tr>\n",
       "\t<tr><th scope=row>2</th><td>Male  </td><td>No    </td><td>76992 </td></tr>\n",
       "\t<tr><th scope=row>4</th><td>Male  </td><td>Yes   </td><td> 6808 </td></tr>\n",
       "</tbody>\n",
       "</table>\n"
      ],
      "text/latex": [
       "\\begin{tabular}{r|lll}\n",
       "  & Gender & Illness & Freq\\\\\n",
       "\\hline\n",
       "\t1 & Female & No     & 60869 \\\\\n",
       "\t3 & Female & Yes    &  5331 \\\\\n",
       "\t2 & Male   & No     & 76992 \\\\\n",
       "\t4 & Male   & Yes    &  6808 \\\\\n",
       "\\end{tabular}\n"
      ],
      "text/markdown": [
       "\n",
       "| <!--/--> | Gender | Illness | Freq |\n",
       "|---|---|---|---|\n",
       "| 1 | Female | No     | 60869  |\n",
       "| 3 | Female | Yes    |  5331  |\n",
       "| 2 | Male   | No     | 76992  |\n",
       "| 4 | Male   | Yes    |  6808  |\n",
       "\n"
      ],
      "text/plain": [
       "  Gender Illness Freq \n",
       "1 Female No      60869\n",
       "3 Female Yes      5331\n",
       "2 Male   No      76992\n",
       "4 Male   Yes      6808"
      ]
     },
     "metadata": {},
     "output_type": "display_data"
    }
   ],
   "source": [
    "df <- as.data.frame(table(csv[,c(3,6)]))\n",
    "df[order(df$Gender),]"
   ]
  },
  {
   "cell_type": "code",
   "execution_count": 12,
   "metadata": {},
   "outputs": [],
   "source": [
    "prop <- c()\n",
    "rows = nrow(df)/2\n",
    "for(i in 1:rows){\n",
    "    prop <- c(prop, df$Freq[i+rows]/df$Freq[i])\n",
    "}\n",
    "prop <- as.data.frame(list(\"Gender\"=df$Gender, \"Proportion\"=prop))"
   ]
  },
  {
   "cell_type": "code",
   "execution_count": 13,
   "metadata": {},
   "outputs": [
    {
     "data": {
      "image/png": "[encoded data removed]",
      "text/plain": [
       "plot without title"
      ]
     },
     "metadata": {},
     "output_type": "display_data"
    }
   ],
   "source": [
    "ggplot(data=prop, aes(x=Gender, y=Proportion)) +\n",
    "  geom_bar(stat=\"identity\", fill=\"steelblue\") +\n",
    "  geom_text(aes(label=round(Proportion,4)), vjust=1.6, color=\"white\", size=3) +\n",
    "  theme(axis.text.y=element_blank(),\n",
    "        axis.ticks.y=element_blank())"
   ]
  },
  {
   "cell_type": "markdown",
   "metadata": {},
   "source": [
    "Same conclusion for the gender, both have the same ratio.\n",
    "\n",
    "---\n",
    "\n",
    "Let's now have a look at ages by creating categories."
   ]
  },
  {
   "cell_type": "code",
   "execution_count": 14,
   "metadata": {},
   "outputs": [],
   "source": [
    "age_categories = list(\"Ages\"=list(\"Min\"=c(20,30,40,50,60), \"Max\"=c(29,39,49,59,150)), \"Ill\"=c(), \"Safe\"=c())\n",
    "for(i in 1:length(age_categories$Ages$Min)){\n",
    "    age_categories$Ill <- c(age_categories$Ill,0)\n",
    "    age_categories$Safe <- c(age_categories$Safe,0)\n",
    "}\n",
    "for(i in 1:nrow(csv)){\n",
    "    for(j in 1:length(age_categories$Ages$Min)){\n",
    "        if(csv$Age[i] <= age_categories$Ages$Max[j] && csv$Age[i] >= age_categories$Ages$Min[j]){\n",
    "            if(csv$Illness[i] == \"No\"){\n",
    "                age_categories$Safe[j] = age_categories$Safe[j] + 1\n",
    "            }else{\n",
    "                age_categories$Ill[j] = age_categories$Ill[j] + 1\n",
    "            }\n",
    "        }\n",
    "    }\n",
    "}\n",
    "prop <- list(\"Age\"=c(), \"Proportion\"=c())\n",
    "for(i in 1:length(age_categories$Ages$Min)){\n",
    "    prop$Age <- c(prop$Age, paste0(age_categories$Ages$Min[i],\"-\",age_categories$Ages$Max[i]))\n",
    "    prop$Proportion <- c(prop$Proportion, age_categories$Ill[i]/age_categories$Safe[i])\n",
    "}\n",
    "prop <- as.data.frame(prop)"
   ]
  },
  {
   "cell_type": "code",
   "execution_count": 15,
   "metadata": {},
   "outputs": [
    {
     "data": {
      "text/html": [
       "<table>\n",
       "<thead><tr><th scope=col>Age</th><th scope=col>Proportion</th></tr></thead>\n",
       "<tbody>\n",
       "\t<tr><td>20-29     </td><td>0.08796707</td></tr>\n",
       "\t<tr><td>30-39     </td><td>0.08626458</td></tr>\n",
       "\t<tr><td>40-49     </td><td>0.08928675</td></tr>\n",
       "\t<tr><td>50-59     </td><td>0.08741544</td></tr>\n",
       "\t<tr><td>60-150    </td><td>0.09028147</td></tr>\n",
       "</tbody>\n",
       "</table>\n"
      ],
      "text/latex": [
       "\\begin{tabular}{r|ll}\n",
       " Age & Proportion\\\\\n",
       "\\hline\n",
       "\t 20-29      & 0.08796707\\\\\n",
       "\t 30-39      & 0.08626458\\\\\n",
       "\t 40-49      & 0.08928675\\\\\n",
       "\t 50-59      & 0.08741544\\\\\n",
       "\t 60-150     & 0.09028147\\\\\n",
       "\\end{tabular}\n"
      ],
      "text/markdown": [
       "\n",
       "| Age | Proportion |\n",
       "|---|---|\n",
       "| 20-29      | 0.08796707 |\n",
       "| 30-39      | 0.08626458 |\n",
       "| 40-49      | 0.08928675 |\n",
       "| 50-59      | 0.08741544 |\n",
       "| 60-150     | 0.09028147 |\n",
       "\n"
      ],
      "text/plain": [
       "  Age    Proportion\n",
       "1 20-29  0.08796707\n",
       "2 30-39  0.08626458\n",
       "3 40-49  0.08928675\n",
       "4 50-59  0.08741544\n",
       "5 60-150 0.09028147"
      ]
     },
     "metadata": {},
     "output_type": "display_data"
    }
   ],
   "source": [
    "prop"
   ]
  },
  {
   "cell_type": "code",
   "execution_count": 16,
   "metadata": {},
   "outputs": [
    {
     "data": {
      "image/png": "[encoded data removed]",
      "text/plain": [
       "plot without title"
      ]
     },
     "metadata": {},
     "output_type": "display_data"
    }
   ],
   "source": [
    "ggplot(data=prop, aes(x=Age, y=Proportion)) +\n",
    "  geom_bar(stat=\"identity\", fill=\"steelblue\") +\n",
    "  geom_text(aes(label=round(Proportion,4)), vjust=1.6, color=\"white\", size=3) +\n",
    "  theme(axis.text.y=element_blank(),\n",
    "        axis.ticks.y=element_blank())"
   ]
  },
  {
   "cell_type": "markdown",
   "metadata": {},
   "source": [
    "We can see that the ratio is quite the same for each category of age (which is a bit strange considering reality). It is probably due to the fact that those datas are not real and were uniformly generated."
   ]
  },
  {
   "cell_type": "code",
   "execution_count": 17,
   "metadata": {},
   "outputs": [],
   "source": [
    "income_categories = list(\"Incomes\"=list(\"Min\"=c(0,60001,125001), \"Max\"=c(60000,125000,200000)), \"Ill\"=c(), \"Safe\"=c())\n",
    "for(i in 1:length(income_categories$Incomes$Min)){\n",
    "    income_categories$Ill <- c(income_categories$Ill,0)\n",
    "    income_categories$Safe <- c(income_categories$Safe,0)\n",
    "}\n",
    "for(i in 1:nrow(csv)){\n",
    "    for(j in 1:length(income_categories$Incomes$Min)){\n",
    "        if(csv$Income[i] <= income_categories$Incomes$Max[j] && csv$Income[i] >= income_categories$Incomes$Min[j]){\n",
    "            if(csv$Illness[i] == \"No\"){\n",
    "                income_categories$Safe[j] = income_categories$Safe[j] + 1\n",
    "            }else{\n",
    "                income_categories$Ill[j] = income_categories$Ill[j] + 1\n",
    "            }\n",
    "        }\n",
    "    }\n",
    "}\n",
    "prop <- list(\"Incomes\"=c(), \"Proportion\"=c())\n",
    "for(i in 1:length(income_categories$Incomes$Min)){\n",
    "    prop$Incomes <- c(prop$Incomes, paste0(income_categories$Incomes$Min[i],\"-\",income_categories$Incomes$Max[i]))\n",
    "    prop$Proportion <- c(prop$Proportion, income_categories$Ill[i]/income_categories$Safe[i])\n",
    "}\n",
    "prop <- as.data.frame(prop)"
   ]
  },
  {
   "cell_type": "code",
   "execution_count": 18,
   "metadata": {},
   "outputs": [
    {
     "data": {
      "text/html": [
       "<table>\n",
       "<thead><tr><th scope=col>Incomes</th><th scope=col>Proportion</th></tr></thead>\n",
       "<tbody>\n",
       "\t<tr><td>0-60000     </td><td>0.08848909  </td></tr>\n",
       "\t<tr><td>60001-125000</td><td>0.08770788  </td></tr>\n",
       "\t<tr><td>125001-2e+05</td><td>0.09067758  </td></tr>\n",
       "</tbody>\n",
       "</table>\n"
      ],
      "text/latex": [
       "\\begin{tabular}{r|ll}\n",
       " Incomes & Proportion\\\\\n",
       "\\hline\n",
       "\t 0-60000      & 0.08848909  \\\\\n",
       "\t 60001-125000 & 0.08770788  \\\\\n",
       "\t 125001-2e+05 & 0.09067758  \\\\\n",
       "\\end{tabular}\n"
      ],
      "text/markdown": [
       "\n",
       "| Incomes | Proportion |\n",
       "|---|---|\n",
       "| 0-60000      | 0.08848909   |\n",
       "| 60001-125000 | 0.08770788   |\n",
       "| 125001-2e+05 | 0.09067758   |\n",
       "\n"
      ],
      "text/plain": [
       "  Incomes      Proportion\n",
       "1 0-60000      0.08848909\n",
       "2 60001-125000 0.08770788\n",
       "3 125001-2e+05 0.09067758"
      ]
     },
     "metadata": {},
     "output_type": "display_data"
    }
   ],
   "source": [
    "prop"
   ]
  },
  {
   "cell_type": "code",
   "execution_count": 19,
   "metadata": {},
   "outputs": [
    {
     "data": {
      "image/png": "[encoded data removed]",
      "text/plain": [
       "plot without title"
      ]
     },
     "metadata": {},
     "output_type": "display_data"
    }
   ],
   "source": [
    "ggplot(data=prop, aes(x=Incomes, y=Proportion)) +\n",
    "  geom_bar(stat=\"identity\", fill=\"steelblue\") +\n",
    "  geom_text(aes(label=round(Proportion,4)), vjust=1.6, color=\"white\", size=3) +\n",
    "  theme(axis.text.y=element_blank(),\n",
    "        axis.ticks.y=element_blank())"
   ]
  },
  {
   "cell_type": "markdown",
   "metadata": {},
   "source": [
    "Same conclusion as before, we can't say that any column in our dataset can be linearly correlated to Illness."
   ]
  },
  {
   "cell_type": "markdown",
   "metadata": {},
   "source": [
    "### Preprocessing Data"
   ]
  },
  {
   "cell_type": "markdown",
   "metadata": {},
   "source": [
    "#### Extract Binary Categorical Variable"
   ]
  },
  {
   "cell_type": "code",
   "execution_count": 20,
   "metadata": {},
   "outputs": [],
   "source": [
    "df_g <- as.data.frame(table(csv[,3]))\n",
    "df_i <- as.data.frame(table(csv[,6]))\n",
    "rows = nrow(csv)\n",
    "gender <- integer(rows)\n",
    "illness <- integer(rows)\n",
    "for(i in 1:rows){\n",
    "    for(j in 1:nrow(df_g)){\n",
    "        if(csv$Gender[i] == df_g$Var1[j]){\n",
    "            gender[i] <- j-1\n",
    "            break\n",
    "        }\n",
    "    }\n",
    "    for(j in 1:nrow(df_i)){\n",
    "        if(csv$Illness[i] == df_i$Var1[j]){\n",
    "            illness[i] <- j-1\n",
    "            break\n",
    "        }\n",
    "    }\n",
    "}\n",
    "gender_label <- df_g$Var1\n",
    "illness_label <- df_i$Var1"
   ]
  },
  {
   "cell_type": "markdown",
   "metadata": {},
   "source": [
    "#### Extract Multi Categorical Variable (ordinals)"
   ]
  },
  {
   "cell_type": "code",
   "execution_count": 21,
   "metadata": {},
   "outputs": [],
   "source": [
    "age_categories = list(\"Ages\"=list(\"Min\"=c(20,30,40,50,60), \"Max\"=c(29,39,49,59,150)))\n",
    "age <- integer(rows)\n",
    "for(i in 1:nrow(csv)){\n",
    "    for(j in 1:length(age_categories$Ages$Min)){\n",
    "        if(csv$Age[i] <= age_categories$Ages$Max[j] && csv$Age[i] >= age_categories$Ages$Min[j]){\n",
    "            age[i] <- j-1\n",
    "            break\n",
    "        }\n",
    "    }\n",
    "}\n",
    "age_label <- c()\n",
    "for(i in 1:length(age_categories$Ages$Min)){\n",
    "    age_label <- c(age_label, paste0(age_categories$Ages$Min[i],\"-\",age_categories$Ages$Max[i]))\n",
    "}"
   ]
  },
  {
   "cell_type": "code",
   "execution_count": 22,
   "metadata": {},
   "outputs": [],
   "source": [
    "income_categories = list(\"Incomes\"=list(\"Min\"=c(0,60001,125001), \"Max\"=c(60000,125000,200000)))\n",
    "income <- integer(rows)\n",
    "for(i in 1:nrow(csv)){\n",
    "    for(j in 1:length(income_categories$Incomes$Min)){\n",
    "        if(csv$Income[i] <= income_categories$Incomes$Max[j] && csv$Income[i] >= income_categories$Incomes$Min[j]){\n",
    "            income[i] <- j-1\n",
    "            break\n",
    "        }\n",
    "    }\n",
    "}\n",
    "income_label <- c()\n",
    "for(i in 1:length(income_categories$Incomes$Min)){\n",
    "    income_label <- c(income_label, paste0(income_categories$Incomes$Min[i],\"-\",income_categories$Incomes$Max[i]))\n",
    "}"
   ]
  },
  {
   "cell_type": "markdown",
   "metadata": {},
   "source": [
    "#### Extract Multi Categorical Variable (non-ordinal)"
   ]
  },
  {
   "cell_type": "code",
   "execution_count": 23,
   "metadata": {},
   "outputs": [],
   "source": [
    "df_c <- as.data.frame(table(csv[,2]))\n",
    "city <- matrix(0, nrow = nrow(csv), ncol = nrow(df_c))\n",
    "for(i in 1:nrow(csv)){\n",
    "    for(j in 1:nrow(df_c)){\n",
    "        if(csv$City[i] == df_c$Var1[j]){\n",
    "            city[i,j] <- 1\n",
    "            break\n",
    "        }\n",
    "    }\n",
    "}\n",
    "city_label <- df_c$Var1"
   ]
  },
  {
   "cell_type": "markdown",
   "metadata": {},
   "source": [
    "#### Create processed DataFrame"
   ]
  },
  {
   "cell_type": "code",
   "execution_count": 75,
   "metadata": {},
   "outputs": [],
   "source": [
    "labels <- list(\"City\"=city_label, \"Gender\"=gender_label, \"Age\"=age_label, \"Income\"=income_label, \"Illness\"=illness_label)\n",
    "df <- as.data.frame(list(\"City\"=city, \"Gender\"=gender, \"Age\"=age, \"Income\"=income, \"Illness\"=illness))"
   ]
  },
  {
   "cell_type": "code",
   "execution_count": 76,
   "metadata": {},
   "outputs": [
    {
     "data": {
      "text/html": [
       "<table>\n",
       "<thead><tr><th scope=col>City.1</th><th scope=col>City.2</th><th scope=col>City.3</th><th scope=col>City.4</th><th scope=col>City.5</th><th scope=col>City.6</th><th scope=col>City.7</th><th scope=col>City.8</th><th scope=col>Gender</th><th scope=col>Age</th><th scope=col>Income</th><th scope=col>Illness</th></tr></thead>\n",
       "<tbody>\n",
       "\t<tr><td>0</td><td>0</td><td>1</td><td>0</td><td>0</td><td>0</td><td>0</td><td>0</td><td>1</td><td>2</td><td>0</td><td>0</td></tr>\n",
       "\t<tr><td>0</td><td>0</td><td>1</td><td>0</td><td>0</td><td>0</td><td>0</td><td>0</td><td>1</td><td>3</td><td>0</td><td>0</td></tr>\n",
       "\t<tr><td>0</td><td>0</td><td>1</td><td>0</td><td>0</td><td>0</td><td>0</td><td>0</td><td>1</td><td>2</td><td>0</td><td>0</td></tr>\n",
       "\t<tr><td>0</td><td>0</td><td>1</td><td>0</td><td>0</td><td>0</td><td>0</td><td>0</td><td>1</td><td>2</td><td>0</td><td>0</td></tr>\n",
       "\t<tr><td>0</td><td>0</td><td>1</td><td>0</td><td>0</td><td>0</td><td>0</td><td>0</td><td>1</td><td>2</td><td>0</td><td>0</td></tr>\n",
       "\t<tr><td>0</td><td>0</td><td>1</td><td>0</td><td>0</td><td>0</td><td>0</td><td>0</td><td>0</td><td>1</td><td>0</td><td>0</td></tr>\n",
       "</tbody>\n",
       "</table>\n"
      ],
      "text/latex": [
       "\\begin{tabular}{r|llllllllllll}\n",
       " City.1 & City.2 & City.3 & City.4 & City.5 & City.6 & City.7 & City.8 & Gender & Age & Income & Illness\\\\\n",
       "\\hline\n",
       "\t 0 & 0 & 1 & 0 & 0 & 0 & 0 & 0 & 1 & 2 & 0 & 0\\\\\n",
       "\t 0 & 0 & 1 & 0 & 0 & 0 & 0 & 0 & 1 & 3 & 0 & 0\\\\\n",
       "\t 0 & 0 & 1 & 0 & 0 & 0 & 0 & 0 & 1 & 2 & 0 & 0\\\\\n",
       "\t 0 & 0 & 1 & 0 & 0 & 0 & 0 & 0 & 1 & 2 & 0 & 0\\\\\n",
       "\t 0 & 0 & 1 & 0 & 0 & 0 & 0 & 0 & 1 & 2 & 0 & 0\\\\\n",
       "\t 0 & 0 & 1 & 0 & 0 & 0 & 0 & 0 & 0 & 1 & 0 & 0\\\\\n",
       "\\end{tabular}\n"
      ],
      "text/markdown": [
       "\n",
       "| City.1 | City.2 | City.3 | City.4 | City.5 | City.6 | City.7 | City.8 | Gender | Age | Income | Illness |\n",
       "|---|---|---|---|---|---|---|---|---|---|---|---|\n",
       "| 0 | 0 | 1 | 0 | 0 | 0 | 0 | 0 | 1 | 2 | 0 | 0 |\n",
       "| 0 | 0 | 1 | 0 | 0 | 0 | 0 | 0 | 1 | 3 | 0 | 0 |\n",
       "| 0 | 0 | 1 | 0 | 0 | 0 | 0 | 0 | 1 | 2 | 0 | 0 |\n",
       "| 0 | 0 | 1 | 0 | 0 | 0 | 0 | 0 | 1 | 2 | 0 | 0 |\n",
       "| 0 | 0 | 1 | 0 | 0 | 0 | 0 | 0 | 1 | 2 | 0 | 0 |\n",
       "| 0 | 0 | 1 | 0 | 0 | 0 | 0 | 0 | 0 | 1 | 0 | 0 |\n",
       "\n"
      ],
      "text/plain": [
       "  City.1 City.2 City.3 City.4 City.5 City.6 City.7 City.8 Gender Age Income\n",
       "1 0      0      1      0      0      0      0      0      1      2   0     \n",
       "2 0      0      1      0      0      0      0      0      1      3   0     \n",
       "3 0      0      1      0      0      0      0      0      1      2   0     \n",
       "4 0      0      1      0      0      0      0      0      1      2   0     \n",
       "5 0      0      1      0      0      0      0      0      1      2   0     \n",
       "6 0      0      1      0      0      0      0      0      0      1   0     \n",
       "  Illness\n",
       "1 0      \n",
       "2 0      \n",
       "3 0      \n",
       "4 0      \n",
       "5 0      \n",
       "6 0      "
      ]
     },
     "metadata": {},
     "output_type": "display_data"
    }
   ],
   "source": [
    "df[1:6,]"
   ]
  },
  {
   "cell_type": "markdown",
   "metadata": {},
   "source": [
    "lastly, we will reduce the size (cause of memory usage)"
   ]
  },
  {
   "cell_type": "code",
   "execution_count": 77,
   "metadata": {},
   "outputs": [
    {
     "name": "stdout",
     "output_type": "stream",
     "text": [
      "[1] \"150000*12\"\n",
      "[1] \"3000*12\"\n"
     ]
    }
   ],
   "source": [
    "print(paste0(nrow(df), \"*\", ncol(df)))\n",
    "df <- df[sample(nrow(df), 3000), ]\n",
    "print(paste0(nrow(df), \"*\", ncol(df)))"
   ]
  },
  {
   "cell_type": "markdown",
   "metadata": {},
   "source": [
    "## Clustering And Validation"
   ]
  },
  {
   "cell_type": "markdown",
   "metadata": {},
   "source": [
    "### Principal Component Analysis\n",
    "\n",
    "We will not speak a lot of PCA since it's not the subject, but here, we will use it to reduce the dimension space to two axis."
   ]
  },
  {
   "cell_type": "code",
   "execution_count": 78,
   "metadata": {},
   "outputs": [],
   "source": [
    "pca_df <- dudi.pca(df, center=TRUE, scale=TRUE, scannf = FALSE, nf = 2)"
   ]
  },
  {
   "cell_type": "code",
   "execution_count": 79,
   "metadata": {},
   "outputs": [
    {
     "data": {
      "image/png": "[encoded data removed]",
      "text/plain": [
       "Plot with title \"Screeplot - Eigenvalues\""
      ]
     },
     "metadata": {},
     "output_type": "display_data"
    }
   ],
   "source": [
    "screeplot(pca_df, main = \"Screeplot - Eigenvalues\")"
   ]
  },
  {
   "cell_type": "markdown",
   "metadata": {},
   "source": [
    "We clearly see that the dataset was generated since the inertia is quite constant over all the initial dimensions (excepting the last one), meaning that PCA is not as usefull as we can think. But we will still rely on the two first axis for this report.\n",
    "\n",
    "No matter what, using the elbow method we see that two axis are still a good choice even if they only represent a small percentage of information from the inital dataset."
   ]
  },
  {
   "cell_type": "markdown",
   "metadata": {},
   "source": [
    "### Kmeans - Centroid-based Clustering\n",
    "\n",
    "We will firstly select the best number of clusters using the Dun Index and the elbow method."
   ]
  },
  {
   "cell_type": "code",
   "execution_count": 80,
   "metadata": {},
   "outputs": [
    {
     "data": {
      "image/png": "[encoded data removed]",
      "text/plain": [
       "plot without title"
      ]
     },
     "metadata": {},
     "output_type": "display_data"
    }
   ],
   "source": [
    "fviz_nbclust(pca_df$li, kmeans, method = \"wss\") + geom_vline(xintercept = 4, linetype = 2) + \n",
    "labs(subtitle = \"Elbow method\")"
   ]
  },
  {
   "cell_type": "code",
   "execution_count": 81,
   "metadata": {},
   "outputs": [],
   "source": [
    "k_means = kmeans(pca_df$li,centers=4)"
   ]
  },
  {
   "cell_type": "code",
   "execution_count": 82,
   "metadata": {},
   "outputs": [
    {
     "data": {
      "image/png": "[encoded data removed]",
      "text/plain": [
       "plot without title"
      ]
     },
     "metadata": {},
     "output_type": "display_data"
    }
   ],
   "source": [
    "fviz_cluster(k_means, df, ellipse.type = \"norm\", geom=\"point\") + labs(title= \"K-means with 4 clusters\") + \n",
    "xlab(\"PCA-1\") + ylab(\"PCA-2\")"
   ]
  },
  {
   "cell_type": "code",
   "execution_count": 83,
   "metadata": {},
   "outputs": [
    {
     "data": {
      "image/png": "[encoded data removed]",
      "text/plain": [
       "plot without title"
      ]
     },
     "metadata": {},
     "output_type": "display_data"
    }
   ],
   "source": [
    "qplot(pca_df$li[,1], pca_df$li[,2], colour = df$Income) + \n",
    "labs(title= \"PCA Projection regarding Income\", color = \"Inc. Cat.\") + \n",
    "xlab(\"PCA-1\") + ylab(\"PCA-2\")"
   ]
  },
  {
   "cell_type": "markdown",
   "metadata": {},
   "source": [
    "Here we clearly see that the PCA choose the categorical variable income as a major factor of information. Thus, we can see that the clustering seems to also take it in account in some ways. \n",
    "\n",
    "But this is not the only thing."
   ]
  },
  {
   "cell_type": "code",
   "execution_count": 84,
   "metadata": {},
   "outputs": [
    {
     "data": {
      "image/png": "[encoded data removed]",
      "text/plain": [
       "plot without title"
      ]
     },
     "metadata": {},
     "output_type": "display_data"
    }
   ],
   "source": [
    "qplot(pca_df$li[,1], pca_df$li[,2], colour = df$City.6) + \n",
    "labs(title= \"PCA Projection regarding City.6\", color = \"City.6\") + \n",
    "xlab(\"PCA-1\") + ylab(\"PCA-2\")"
   ]
  },
  {
   "cell_type": "code",
   "execution_count": 85,
   "metadata": {},
   "outputs": [
    {
     "data": {
      "image/png": "[encoded data removed]",
      "text/plain": [
       "plot without title"
      ]
     },
     "metadata": {},
     "output_type": "display_data"
    }
   ],
   "source": [
    "qplot(pca_df$li[,1], pca_df$li[,2], colour = df$City.5) + \n",
    "labs(title= \"PCA Projection regarding City.5\", color = \"City.5\") + \n",
    "xlab(\"PCA-1\") + ylab(\"PCA-2\")"
   ]
  },
  {
   "cell_type": "markdown",
   "metadata": {},
   "source": [
    "Here we see that Cities introduce a huge bias in our PCA. The other variables are all well distributed in the clusters. So we will try to delete cities from our pca. \n",
    "\n",
    "Note that something is still interesting :\n",
    "- As we can see in the city.6, the richer people seems to be concentrated, and the clustering seems to have understand this.\n"
   ]
  },
  {
   "cell_type": "code",
   "execution_count": 86,
   "metadata": {},
   "outputs": [
    {
     "data": {
      "text/html": [
       "<table>\n",
       "<thead><tr><th></th><th scope=col>Gender</th><th scope=col>Age</th><th scope=col>Income</th><th scope=col>Illness</th></tr></thead>\n",
       "<tbody>\n",
       "\t<tr><th scope=row>134058</th><td>0</td><td>2</td><td>1</td><td>0</td></tr>\n",
       "\t<tr><th scope=row>124022</th><td>0</td><td>2</td><td>1</td><td>0</td></tr>\n",
       "\t<tr><th scope=row>103065</th><td>0</td><td>4</td><td>2</td><td>1</td></tr>\n",
       "\t<tr><th scope=row>124507</th><td>1</td><td>3</td><td>1</td><td>0</td></tr>\n",
       "\t<tr><th scope=row>45404</th><td>0</td><td>2</td><td>1</td><td>0</td></tr>\n",
       "\t<tr><th scope=row>65161</th><td>0</td><td>2</td><td>1</td><td>0</td></tr>\n",
       "</tbody>\n",
       "</table>\n"
      ],
      "text/latex": [
       "\\begin{tabular}{r|llll}\n",
       "  & Gender & Age & Income & Illness\\\\\n",
       "\\hline\n",
       "\t134058 & 0 & 2 & 1 & 0\\\\\n",
       "\t124022 & 0 & 2 & 1 & 0\\\\\n",
       "\t103065 & 0 & 4 & 2 & 1\\\\\n",
       "\t124507 & 1 & 3 & 1 & 0\\\\\n",
       "\t45404 & 0 & 2 & 1 & 0\\\\\n",
       "\t65161 & 0 & 2 & 1 & 0\\\\\n",
       "\\end{tabular}\n"
      ],
      "text/markdown": [
       "\n",
       "| <!--/--> | Gender | Age | Income | Illness |\n",
       "|---|---|---|---|---|\n",
       "| 134058 | 0 | 2 | 1 | 0 |\n",
       "| 124022 | 0 | 2 | 1 | 0 |\n",
       "| 103065 | 0 | 4 | 2 | 1 |\n",
       "| 124507 | 1 | 3 | 1 | 0 |\n",
       "| 45404 | 0 | 2 | 1 | 0 |\n",
       "| 65161 | 0 | 2 | 1 | 0 |\n",
       "\n"
      ],
      "text/plain": [
       "       Gender Age Income Illness\n",
       "134058 0      2   1      0      \n",
       "124022 0      2   1      0      \n",
       "103065 0      4   2      1      \n",
       "124507 1      3   1      0      \n",
       "45404  0      2   1      0      \n",
       "65161  0      2   1      0      "
      ]
     },
     "metadata": {},
     "output_type": "display_data"
    }
   ],
   "source": [
    "df <- df[,(ncol(df)-3):ncol(df)]\n",
    "head(df)"
   ]
  },
  {
   "cell_type": "code",
   "execution_count": 87,
   "metadata": {},
   "outputs": [],
   "source": [
    "pca_df <- dudi.pca(df, center=TRUE, scale=TRUE, scannf = FALSE, nf = 2)"
   ]
  },
  {
   "cell_type": "code",
   "execution_count": 88,
   "metadata": {},
   "outputs": [
    {
     "ename": "ERROR",
     "evalue": "Error in +labs(subtitle = \"Elbow method\"): argument incorrect pour un opérateur unitaire\n",
     "output_type": "error",
     "traceback": [
      "Error in +labs(subtitle = \"Elbow method\"): argument incorrect pour un opérateur unitaire\nTraceback:\n"
     ]
    },
    {
     "data": {
      "image/png": "[encoded data removed]",
      "text/plain": [
       "plot without title"
      ]
     },
     "metadata": {},
     "output_type": "display_data"
    }
   ],
   "source": [
    "fviz_nbclust(pca_df$li, kmeans, method = \"wss\") + geom_vline(xintercept = 5, linetype = 2)\n",
    "+ labs(subtitle = \"Elbow method\")"
   ]
  },
  {
   "cell_type": "code",
   "execution_count": 93,
   "metadata": {},
   "outputs": [],
   "source": [
    "k_means = kmeans(pca_df$li,centers=5)"
   ]
  },
  {
   "cell_type": "code",
   "execution_count": 94,
   "metadata": {},
   "outputs": [
    {
     "data": {
      "image/png": "[encoded data removed]",
      "text/plain": [
       "plot without title"
      ]
     },
     "metadata": {},
     "output_type": "display_data"
    }
   ],
   "source": [
    "fviz_cluster(k_means, df, ellipse.type = \"norm\", geom=\"point\") + labs(title= \"K-means with 5 clusters\") + \n",
    "xlab(\"PCA-1\") + ylab(\"PCA-2\")"
   ]
  },
  {
   "cell_type": "code",
   "execution_count": 95,
   "metadata": {},
   "outputs": [
    {
     "data": {
      "image/png": "[encoded data removed]",
      "text/plain": [
       "plot without title"
      ]
     },
     "metadata": {},
     "output_type": "display_data"
    }
   ],
   "source": [
    "qplot(pca_df$li[,1], pca_df$li[,2], colour = df$Illness) + \n",
    "labs(title= \"PCA Projection regarding Illness\", color = \"Illness\") + \n",
    "xlab(\"PCA-1\") + ylab(\"PCA-2\")"
   ]
  },
  {
   "cell_type": "code",
   "execution_count": 96,
   "metadata": {},
   "outputs": [
    {
     "data": {
      "image/png": "[encoded data removed]",
      "text/plain": [
       "plot without title"
      ]
     },
     "metadata": {},
     "output_type": "display_data"
    }
   ],
   "source": [
    "qplot(pca_df$li[,1], pca_df$li[,2], colour = df$Income) + \n",
    "labs(title= \"PCA Projection regarding Income\", color = \"Inc. Cat.\") + \n",
    "xlab(\"PCA-1\") + ylab(\"PCA-2\")"
   ]
  },
  {
   "cell_type": "code",
   "execution_count": 97,
   "metadata": {},
   "outputs": [
    {
     "data": {
      "image/png": "[encoded data removed]",
      "text/plain": [
       "plot without title"
      ]
     },
     "metadata": {},
     "output_type": "display_data"
    }
   ],
   "source": [
    "qplot(pca_df$li[,1], pca_df$li[,2], colour = df$Gender) + \n",
    "labs(title= \"PCA Projection regarding Gender\", color = \"Gender\") + \n",
    "xlab(\"PCA-1\") + ylab(\"PCA-2\")"
   ]
  },
  {
   "cell_type": "code",
   "execution_count": 98,
   "metadata": {},
   "outputs": [
    {
     "data": {
      "image/png": "[encoded data removed]",
      "text/plain": [
       "plot without title"
      ]
     },
     "metadata": {},
     "output_type": "display_data"
    }
   ],
   "source": [
    "qplot(pca_df$li[,1], pca_df$li[,2], colour = df$Age) + \n",
    "labs(title= \"PCA Projection regarding Age\", color = \"Age\") + \n",
    "xlab(\"PCA-1\") + ylab(\"PCA-2\")"
   ]
  },
  {
   "cell_type": "markdown",
   "metadata": {},
   "source": [
    "In this case, the clustering is not really good. But it still better than before :\n",
    "\n",
    "* We see that the PCA decided to create to distinct cluster based on illness which in our case could be interessant.\n",
    "* Data are also clustered by the income category.\n",
    "\n",
    "We could say those basics laws regarding to the result of clustering :\n",
    "\n",
    "* Violet Cluster => Non-ill\n",
    "* The other are ill, but with different criteria based on income, age or gender"
   ]
  },
  {
   "cell_type": "markdown",
   "metadata": {},
   "source": [
    "#### Bootstraping Validation"
   ]
  },
  {
   "cell_type": "code",
   "execution_count": 118,
   "metadata": {},
   "outputs": [
    {
     "data": {
      "text/html": [
       "<dl>\n",
       "\t<dt>$profile</dt>\n",
       "\t\t<dd><dl class=dl-horizontal>\n",
       "\t<dt>2</dt>\n",
       "\t\t<dd>0.884938556027551</dd>\n",
       "\t<dt>3</dt>\n",
       "\t\t<dd>0.489599937593121</dd>\n",
       "\t<dt>4</dt>\n",
       "\t\t<dd>0.398558549160794</dd>\n",
       "\t<dt>5</dt>\n",
       "\t\t<dd>0.405496071609297</dd>\n",
       "\t<dt>6</dt>\n",
       "\t\t<dd>0.212349480899986</dd>\n",
       "\t<dt>7</dt>\n",
       "\t\t<dd>0.253004345188118</dd>\n",
       "\t<dt>8</dt>\n",
       "\t\t<dd>0.374079183855588</dd>\n",
       "</dl>\n",
       "</dd>\n",
       "\t<dt>$k</dt>\n",
       "\t\t<dd>2</dd>\n",
       "</dl>\n"
      ],
      "text/latex": [
       "\\begin{description}\n",
       "\\item[\\$profile] \\begin{description*}\n",
       "\\item[2] 0.884938556027551\n",
       "\\item[3] 0.489599937593121\n",
       "\\item[4] 0.398558549160794\n",
       "\\item[5] 0.405496071609297\n",
       "\\item[6] 0.212349480899986\n",
       "\\item[7] 0.253004345188118\n",
       "\\item[8] 0.374079183855588\n",
       "\\end{description*}\n",
       "\n",
       "\\item[\\$k] 2\n",
       "\\end{description}\n"
      ],
      "text/markdown": [
       "$profile\n",
       ":   2\n",
       ":   0.8849385560275513\n",
       ":   0.4895999375931214\n",
       ":   0.3985585491607945\n",
       ":   0.4054960716092976\n",
       ":   0.2123494808999867\n",
       ":   0.2530043451881188\n",
       ":   0.374079183855588\n",
       "\n",
       "\n",
       "$k\n",
       ":   2\n",
       "\n",
       "\n"
      ],
      "text/plain": [
       "$profile\n",
       "        2         3         4         5         6         7         8 \n",
       "0.8849386 0.4895999 0.3985585 0.4054961 0.2123495 0.2530043 0.3740792 \n",
       "\n",
       "$k\n",
       "[1] 2\n"
      ]
     },
     "metadata": {},
     "output_type": "display_data"
    }
   ],
   "source": [
    "k.select(pca_df$li, 2:8, B = 10, r = 3, threshold = 0.6, scheme_2 = TRUE)"
   ]
  },
  {
   "cell_type": "markdown",
   "metadata": {},
   "source": [
    "As we may have already find, the best k in with the pca is 2. Meaning that the best cluster would be Ill and Non-Ill."
   ]
  },
  {
   "cell_type": "code",
   "execution_count": null,
   "metadata": {},
   "outputs": [],
   "source": []
  }
 ],
 "metadata": {
  "kernelspec": {
   "display_name": "R",
   "language": "R",
   "name": "ir"
  },
  "language_info": {
   "codemirror_mode": "r",
   "file_extension": ".r",
   "mimetype": "text/x-r-source",
   "name": "R",
   "pygments_lexer": "r",
   "version": "3.6.1"
  }
 },
 "nbformat": 4,
 "nbformat_minor": 4
}
