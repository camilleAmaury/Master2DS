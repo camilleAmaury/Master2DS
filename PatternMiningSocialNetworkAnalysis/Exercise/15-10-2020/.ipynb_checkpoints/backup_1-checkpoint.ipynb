{
 "cells": [
  {
   "cell_type": "markdown",
   "metadata": {
    "id": "uKpsSdulVzO1"
   },
   "source": [
    "# Autonomous Work\n",
    "\n",
    "Clément Antheaume, Camille-Amaury Juge."
   ]
  },
  {
   "cell_type": "markdown",
   "metadata": {
    "id": "QUeSUMKYUzsM"
   },
   "source": [
    "## 1 - Write an overview (definition, meaning) of validation measures in supervised context for both :\n",
    "\n",
    "\n"
   ]
  },
  {
   "cell_type": "markdown",
   "metadata": {
    "id": "w3COsi3_W0XD"
   },
   "source": [
    "### A - Classification (categorical class)\n",
    "\n",
    "Considering TP = Numbers of individuals well classified positive, TN = Numbers of individuals well classified negative and FP Numbers of positive individuals classified negative, FN Numbers of negative individuals classified positive.\n",
    "\n",
    "Precision : TP / TP + TN, specificity of the model.\n",
    "\n",
    "Recall : TP / TP + FN, sensitivity of the model.\n",
    "\n",
    "F-measure : 2 * ( (Precision * Recall) / (Precision + Recall) ), harmonic mean of recall and precision.\n",
    "\n",
    "Rand index : TP + TN / TP + FP + FN +TN, Percentage of correct decisions made by the classification algorithm. Can be used in clustering to measure the similarity  between two clusters.\n",
    "\n",
    "ROC Curve : Function giving the number of True positive rate (y) given the false negative rate. The goal being having a curve as close as possible to y = x."
   ]
  },
  {
   "cell_type": "markdown",
   "metadata": {
    "id": "YIAvYAJDW-tb"
   },
   "source": [
    "### B - Regression (numeric class)"
   ]
  },
  {
   "cell_type": "markdown",
   "metadata": {
    "id": "5bCVYlW6XdDN"
   },
   "source": [
    "#### Mean Squared Error\n",
    "\n",
    "* MSE ε R<sup>+</sup>\n",
    "* MSE = Average(Indicators - Indicator<sup>2</sup>)\n",
    "* ⇔ MSE = Bias(Indicator)<sup>2</sup> + Variance(Indicator)\n",
    "* As we can see, it can be defined as a mesure of the bias and variance of the Indicator\n",
    "* It evaluates the quadratic risk of the Indicator\n",
    "* Sensitive to outliers (large error values), thus usefull when we want our model to be quite stable\n",
    "\n"
   ]
  },
  {
   "cell_type": "markdown",
   "metadata": {
    "id": "rl0V1nMajzaZ"
   },
   "source": [
    "#### Root Mean Squared-Error\n",
    "\n",
    "* RMSE ε R<sup>+</sup>\n",
    "* RMSE = √(MSE) = √(Average(Indicators - Indicator<sup>2</sup>))\n",
    "* ⇔ RMSE = √(Bias(Indicator)<sup>2</sup> + Variance(Indicator))\n",
    "* As we can see, it can be defined as a mesure of the standard deviation of the Indicator\n",
    "* It evaluates the quadratic risk of the Indicator\n",
    "* Even more Sensitive to outliers (large error values), thus usefull when we want our model to avoid large errors"
   ]
  },
  {
   "cell_type": "markdown",
   "metadata": {
    "id": "tPT2vCHBj2yI"
   },
   "source": [
    "#### Mean Bias Error\n",
    "\n",
    "* MBE ε R\n",
    "* MBE = Average(Y<sub>label</sub> - Y<sub>predicted</sub>)\n",
    "* As we can see, it can be defined as a mesure of the bias of the error between labels and predictions\n",
    "* It indicates if the model surestimate (if MBE < 0)  or underestimate (if MBE > 0) the output "
   ]
  },
  {
   "cell_type": "markdown",
   "metadata": {
    "id": "x5weG5Pgg272"
   },
   "source": []
  },
  {
   "cell_type": "markdown",
   "metadata": {
    "id": "mmGSeju8j5In"
   },
   "source": [
    "#### Systematic Error\n",
    "\n",
    "* SE or SD ε R<sup>+</sup>\n",
    "* SD = √(RMSE(error)<sup>2</sup> - MBE(error)<sup>2</sup>)\n",
    "* As we can see, it can be defined as a mesure of the MSE-Bias so it reduces the importance of larger errors"
   ]
  },
  {
   "cell_type": "markdown",
   "metadata": {
    "id": "m2YF6MiYj7cW"
   },
   "source": [
    "#### Mean Absolute Error\n",
    "\n",
    "* MAE ε R<sup>+</sup>\n",
    "* MAE = Average(|Y<sub>label</sub> - Y<sub>predicted</sub>|)\n",
    "* As we can see, it can be defined as a mesure of the bias, not regarding to its orientation\n",
    "* MAE will not be sensible to outliers"
   ]
  },
  {
   "cell_type": "markdown",
   "metadata": {
    "id": "zORYZld2j9eY"
   },
   "source": [
    "#### Mean Absolute Pourcentage Error\n",
    "\n",
    "* MAPE ε R<sup>+</sup>\n",
    "* MAPE = Average(|(Y<sub>label</sub> - Y<sub>predicted</sub>) / Y<sub>label</sub>|)\n",
    "* As we can see, it can be defined as a mesure of the bias, not regarding to its orientation \n",
    "* It has the advantage to show ratio errors rather than value errors"
   ]
  },
  {
   "cell_type": "markdown",
   "metadata": {
    "id": "mnizEoSej_aX"
   },
   "source": [
    "#### R<sup>2</sup>\n",
    "\n",
    "* R<sup>2</sup> ε R, R<sup>2</sup> ε [-1, 1]\n",
    "* R<sup>2</sup> = Correlation(Y<sub>predicted</sub>, Y<sub>label</sub>)\n",
    "* ⇔ R<sup>2</sup> = Sum((Y<sub>predicted</sub> - Average(Y<sub>label</sub>))<sup>2</sup>/Sum((Y<sub>label</sub> - Average(Y<sub>label</sub>))<sup>2</sup>\n",
    "* As we can see, it can be defined as a mesure of the correlation of the error\n",
    "* It has the advantages to put every error on the same scale"
   ]
  },
  {
   "cell_type": "markdown",
   "metadata": {
    "id": "jIC-PRFoeHXA"
   },
   "source": [
    "### C - Validation Techniques\n",
    "\n",
    "Train-Test : Consists in having 2 seperate datasets following the same probability distribution. One for training and the other one to test the model and make sure it isn't overfitting.\n",
    "\n",
    "Cross-Validation : Dividing the dataset S in N sub sets. For each subset N, train the data on S\\N and try to fit N. The measures are the mean of all the measures found during the cross validation process.\n"
   ]
  },
  {
   "cell_type": "markdown",
   "metadata": {
    "id": "nh0T9VSHVJaL"
   },
   "source": [
    "# 2 - Expriment classification/regression on categorical+numeric data (meteo, mushroom, or your own categorical+numeric data)"
   ]
  },
  {
   "cell_type": "markdown",
   "metadata": {
    "id": "dfoAUHBkkLk5"
   },
   "source": [
    "# Nouvelle section"
   ]
  },
  {
   "cell_type": "code",
   "execution_count": null,
   "metadata": {
    "id": "isP1OVNPWsip"
   },
   "outputs": [],
   "source": [
    "import pandas as pd\n",
    "from sklearn import tree\n",
    "\n",
    "data = pd.read_excel('Meteo.xls')\n"
   ]
  },
  {
   "cell_type": "code",
   "execution_count": null,
   "metadata": {
    "colab": {
     "base_uri": "https://localhost:8080/",
     "height": 357
    },
    "id": "3uDJaWNhhyfH",
    "outputId": "b4b36e6c-4fb9-400e-afdf-e743afad936b"
   },
   "outputs": [
    {
     "ename": "ValueError",
     "evalue": "ignored",
     "output_type": "error",
     "traceback": [
      "\u001b[0;31m---------------------------------------------------------------------------\u001b[0m",
      "\u001b[0;31mValueError\u001b[0m                                Traceback (most recent call last)",
      "\u001b[0;32m<ipython-input-14-1c2f69a09596>\u001b[0m in \u001b[0;36m<module>\u001b[0;34m()\u001b[0m\n\u001b[1;32m      2\u001b[0m \u001b[0mY\u001b[0m \u001b[0;34m=\u001b[0m \u001b[0mdata\u001b[0m\u001b[0;34m[\u001b[0m\u001b[0;34m[\u001b[0m\u001b[0;34m'Class'\u001b[0m\u001b[0;34m]\u001b[0m\u001b[0;34m]\u001b[0m\u001b[0;34m\u001b[0m\u001b[0;34m\u001b[0m\u001b[0m\n\u001b[1;32m      3\u001b[0m \u001b[0mclf\u001b[0m \u001b[0;34m=\u001b[0m \u001b[0mtree\u001b[0m\u001b[0;34m.\u001b[0m\u001b[0mDecisionTreeClassifier\u001b[0m\u001b[0;34m(\u001b[0m\u001b[0;34m)\u001b[0m\u001b[0;34m\u001b[0m\u001b[0;34m\u001b[0m\u001b[0m\n\u001b[0;32m----> 4\u001b[0;31m \u001b[0mclf\u001b[0m \u001b[0;34m=\u001b[0m \u001b[0mclf\u001b[0m\u001b[0;34m.\u001b[0m\u001b[0mfit\u001b[0m\u001b[0;34m(\u001b[0m\u001b[0mX\u001b[0m\u001b[0;34m,\u001b[0m \u001b[0mY\u001b[0m\u001b[0;34m)\u001b[0m\u001b[0;34m\u001b[0m\u001b[0;34m\u001b[0m\u001b[0m\n\u001b[0m",
      "\u001b[0;32m/usr/local/lib/python3.6/dist-packages/sklearn/tree/_classes.py\u001b[0m in \u001b[0;36mfit\u001b[0;34m(self, X, y, sample_weight, check_input, X_idx_sorted)\u001b[0m\n\u001b[1;32m    875\u001b[0m             \u001b[0msample_weight\u001b[0m\u001b[0;34m=\u001b[0m\u001b[0msample_weight\u001b[0m\u001b[0;34m,\u001b[0m\u001b[0;34m\u001b[0m\u001b[0;34m\u001b[0m\u001b[0m\n\u001b[1;32m    876\u001b[0m             \u001b[0mcheck_input\u001b[0m\u001b[0;34m=\u001b[0m\u001b[0mcheck_input\u001b[0m\u001b[0;34m,\u001b[0m\u001b[0;34m\u001b[0m\u001b[0;34m\u001b[0m\u001b[0m\n\u001b[0;32m--> 877\u001b[0;31m             X_idx_sorted=X_idx_sorted)\n\u001b[0m\u001b[1;32m    878\u001b[0m         \u001b[0;32mreturn\u001b[0m \u001b[0mself\u001b[0m\u001b[0;34m\u001b[0m\u001b[0;34m\u001b[0m\u001b[0m\n\u001b[1;32m    879\u001b[0m \u001b[0;34m\u001b[0m\u001b[0m\n",
      "\u001b[0;32m/usr/local/lib/python3.6/dist-packages/sklearn/tree/_classes.py\u001b[0m in \u001b[0;36mfit\u001b[0;34m(self, X, y, sample_weight, check_input, X_idx_sorted)\u001b[0m\n\u001b[1;32m    147\u001b[0m \u001b[0;34m\u001b[0m\u001b[0m\n\u001b[1;32m    148\u001b[0m         \u001b[0;32mif\u001b[0m \u001b[0mcheck_input\u001b[0m\u001b[0;34m:\u001b[0m\u001b[0;34m\u001b[0m\u001b[0;34m\u001b[0m\u001b[0m\n\u001b[0;32m--> 149\u001b[0;31m             \u001b[0mX\u001b[0m \u001b[0;34m=\u001b[0m \u001b[0mcheck_array\u001b[0m\u001b[0;34m(\u001b[0m\u001b[0mX\u001b[0m\u001b[0;34m,\u001b[0m \u001b[0mdtype\u001b[0m\u001b[0;34m=\u001b[0m\u001b[0mDTYPE\u001b[0m\u001b[0;34m,\u001b[0m \u001b[0maccept_sparse\u001b[0m\u001b[0;34m=\u001b[0m\u001b[0;34m\"csc\"\u001b[0m\u001b[0;34m)\u001b[0m\u001b[0;34m\u001b[0m\u001b[0;34m\u001b[0m\u001b[0m\n\u001b[0m\u001b[1;32m    150\u001b[0m             \u001b[0my\u001b[0m \u001b[0;34m=\u001b[0m \u001b[0mcheck_array\u001b[0m\u001b[0;34m(\u001b[0m\u001b[0my\u001b[0m\u001b[0;34m,\u001b[0m \u001b[0mensure_2d\u001b[0m\u001b[0;34m=\u001b[0m\u001b[0;32mFalse\u001b[0m\u001b[0;34m,\u001b[0m \u001b[0mdtype\u001b[0m\u001b[0;34m=\u001b[0m\u001b[0;32mNone\u001b[0m\u001b[0;34m)\u001b[0m\u001b[0;34m\u001b[0m\u001b[0;34m\u001b[0m\u001b[0m\n\u001b[1;32m    151\u001b[0m             \u001b[0;32mif\u001b[0m \u001b[0missparse\u001b[0m\u001b[0;34m(\u001b[0m\u001b[0mX\u001b[0m\u001b[0;34m)\u001b[0m\u001b[0;34m:\u001b[0m\u001b[0;34m\u001b[0m\u001b[0;34m\u001b[0m\u001b[0m\n",
      "\u001b[0;32m/usr/local/lib/python3.6/dist-packages/sklearn/utils/validation.py\u001b[0m in \u001b[0;36mcheck_array\u001b[0;34m(array, accept_sparse, accept_large_sparse, dtype, order, copy, force_all_finite, ensure_2d, allow_nd, ensure_min_samples, ensure_min_features, warn_on_dtype, estimator)\u001b[0m\n\u001b[1;32m    529\u001b[0m                     \u001b[0marray\u001b[0m \u001b[0;34m=\u001b[0m \u001b[0marray\u001b[0m\u001b[0;34m.\u001b[0m\u001b[0mastype\u001b[0m\u001b[0;34m(\u001b[0m\u001b[0mdtype\u001b[0m\u001b[0;34m,\u001b[0m \u001b[0mcasting\u001b[0m\u001b[0;34m=\u001b[0m\u001b[0;34m\"unsafe\"\u001b[0m\u001b[0;34m,\u001b[0m \u001b[0mcopy\u001b[0m\u001b[0;34m=\u001b[0m\u001b[0;32mFalse\u001b[0m\u001b[0;34m)\u001b[0m\u001b[0;34m\u001b[0m\u001b[0;34m\u001b[0m\u001b[0m\n\u001b[1;32m    530\u001b[0m                 \u001b[0;32melse\u001b[0m\u001b[0;34m:\u001b[0m\u001b[0;34m\u001b[0m\u001b[0;34m\u001b[0m\u001b[0m\n\u001b[0;32m--> 531\u001b[0;31m                     \u001b[0marray\u001b[0m \u001b[0;34m=\u001b[0m \u001b[0mnp\u001b[0m\u001b[0;34m.\u001b[0m\u001b[0masarray\u001b[0m\u001b[0;34m(\u001b[0m\u001b[0marray\u001b[0m\u001b[0;34m,\u001b[0m \u001b[0morder\u001b[0m\u001b[0;34m=\u001b[0m\u001b[0morder\u001b[0m\u001b[0;34m,\u001b[0m \u001b[0mdtype\u001b[0m\u001b[0;34m=\u001b[0m\u001b[0mdtype\u001b[0m\u001b[0;34m)\u001b[0m\u001b[0;34m\u001b[0m\u001b[0;34m\u001b[0m\u001b[0m\n\u001b[0m\u001b[1;32m    532\u001b[0m             \u001b[0;32mexcept\u001b[0m \u001b[0mComplexWarning\u001b[0m\u001b[0;34m:\u001b[0m\u001b[0;34m\u001b[0m\u001b[0;34m\u001b[0m\u001b[0m\n\u001b[1;32m    533\u001b[0m                 raise ValueError(\"Complex data not supported\\n\"\n",
      "\u001b[0;32m/usr/local/lib/python3.6/dist-packages/numpy/core/_asarray.py\u001b[0m in \u001b[0;36masarray\u001b[0;34m(a, dtype, order)\u001b[0m\n\u001b[1;32m     83\u001b[0m \u001b[0;34m\u001b[0m\u001b[0m\n\u001b[1;32m     84\u001b[0m     \"\"\"\n\u001b[0;32m---> 85\u001b[0;31m     \u001b[0;32mreturn\u001b[0m \u001b[0marray\u001b[0m\u001b[0;34m(\u001b[0m\u001b[0ma\u001b[0m\u001b[0;34m,\u001b[0m \u001b[0mdtype\u001b[0m\u001b[0;34m,\u001b[0m \u001b[0mcopy\u001b[0m\u001b[0;34m=\u001b[0m\u001b[0;32mFalse\u001b[0m\u001b[0;34m,\u001b[0m \u001b[0morder\u001b[0m\u001b[0;34m=\u001b[0m\u001b[0morder\u001b[0m\u001b[0;34m)\u001b[0m\u001b[0;34m\u001b[0m\u001b[0;34m\u001b[0m\u001b[0m\n\u001b[0m\u001b[1;32m     86\u001b[0m \u001b[0;34m\u001b[0m\u001b[0m\n\u001b[1;32m     87\u001b[0m \u001b[0;34m\u001b[0m\u001b[0m\n",
      "\u001b[0;32m/usr/local/lib/python3.6/dist-packages/pandas/core/generic.py\u001b[0m in \u001b[0;36m__array__\u001b[0;34m(self, dtype)\u001b[0m\n\u001b[1;32m   1776\u001b[0m \u001b[0;34m\u001b[0m\u001b[0m\n\u001b[1;32m   1777\u001b[0m     \u001b[0;32mdef\u001b[0m \u001b[0m__array__\u001b[0m\u001b[0;34m(\u001b[0m\u001b[0mself\u001b[0m\u001b[0;34m,\u001b[0m \u001b[0mdtype\u001b[0m\u001b[0;34m=\u001b[0m\u001b[0;32mNone\u001b[0m\u001b[0;34m)\u001b[0m \u001b[0;34m->\u001b[0m \u001b[0mnp\u001b[0m\u001b[0;34m.\u001b[0m\u001b[0mndarray\u001b[0m\u001b[0;34m:\u001b[0m\u001b[0;34m\u001b[0m\u001b[0;34m\u001b[0m\u001b[0m\n\u001b[0;32m-> 1778\u001b[0;31m         \u001b[0;32mreturn\u001b[0m \u001b[0mnp\u001b[0m\u001b[0;34m.\u001b[0m\u001b[0masarray\u001b[0m\u001b[0;34m(\u001b[0m\u001b[0mself\u001b[0m\u001b[0;34m.\u001b[0m\u001b[0m_values\u001b[0m\u001b[0;34m,\u001b[0m \u001b[0mdtype\u001b[0m\u001b[0;34m=\u001b[0m\u001b[0mdtype\u001b[0m\u001b[0;34m)\u001b[0m\u001b[0;34m\u001b[0m\u001b[0;34m\u001b[0m\u001b[0m\n\u001b[0m\u001b[1;32m   1779\u001b[0m \u001b[0;34m\u001b[0m\u001b[0m\n\u001b[1;32m   1780\u001b[0m     \u001b[0;32mdef\u001b[0m \u001b[0m__array_wrap__\u001b[0m\u001b[0;34m(\u001b[0m\u001b[0mself\u001b[0m\u001b[0;34m,\u001b[0m \u001b[0mresult\u001b[0m\u001b[0;34m,\u001b[0m \u001b[0mcontext\u001b[0m\u001b[0;34m=\u001b[0m\u001b[0;32mNone\u001b[0m\u001b[0;34m)\u001b[0m\u001b[0;34m:\u001b[0m\u001b[0;34m\u001b[0m\u001b[0;34m\u001b[0m\u001b[0m\n",
      "\u001b[0;32m/usr/local/lib/python3.6/dist-packages/numpy/core/_asarray.py\u001b[0m in \u001b[0;36masarray\u001b[0;34m(a, dtype, order)\u001b[0m\n\u001b[1;32m     83\u001b[0m \u001b[0;34m\u001b[0m\u001b[0m\n\u001b[1;32m     84\u001b[0m     \"\"\"\n\u001b[0;32m---> 85\u001b[0;31m     \u001b[0;32mreturn\u001b[0m \u001b[0marray\u001b[0m\u001b[0;34m(\u001b[0m\u001b[0ma\u001b[0m\u001b[0;34m,\u001b[0m \u001b[0mdtype\u001b[0m\u001b[0;34m,\u001b[0m \u001b[0mcopy\u001b[0m\u001b[0;34m=\u001b[0m\u001b[0;32mFalse\u001b[0m\u001b[0;34m,\u001b[0m \u001b[0morder\u001b[0m\u001b[0;34m=\u001b[0m\u001b[0morder\u001b[0m\u001b[0;34m)\u001b[0m\u001b[0;34m\u001b[0m\u001b[0;34m\u001b[0m\u001b[0m\n\u001b[0m\u001b[1;32m     86\u001b[0m \u001b[0;34m\u001b[0m\u001b[0m\n\u001b[1;32m     87\u001b[0m \u001b[0;34m\u001b[0m\u001b[0m\n",
      "\u001b[0;31mValueError\u001b[0m: could not convert string to float: 'sunny'"
     ]
    }
   ],
   "source": [
    "X = data[['ID','Outlook','Tempreature','Humidity','Windy']]\n",
    "\n",
    "Y = data[['Class']]\n",
    "clf = tree.DecisionTreeClassifier()\n",
    "clf = clf.fit(X, Y)"
   ]
  }
 ],
 "metadata": {
  "colab": {
   "collapsed_sections": [
    "YIAvYAJDW-tb"
   ],
   "name": "PMSNA - Classification.ipynb",
   "provenance": [],
   "toc_visible": true
  },
  "kernelspec": {
   "display_name": "Python 3",
   "language": "python",
   "name": "python3"
  },
  "language_info": {
   "codemirror_mode": {
    "name": "ipython",
    "version": 3
   },
   "file_extension": ".py",
   "mimetype": "text/x-python",
   "name": "python",
   "nbconvert_exporter": "python",
   "pygments_lexer": "ipython3",
   "version": "3.7.4"
  }
 },
 "nbformat": 4,
 "nbformat_minor": 1
}
