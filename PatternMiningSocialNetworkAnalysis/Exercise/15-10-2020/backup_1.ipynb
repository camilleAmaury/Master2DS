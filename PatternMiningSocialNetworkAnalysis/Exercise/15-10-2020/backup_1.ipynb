{
 "cells": [
  {
   "cell_type": "markdown",
   "metadata": {
    "id": "uKpsSdulVzO1"
   },
   "source": [
    "# Autonomous Work\n",
    "\n",
    "Clément Antheaume, Camille-Amaury Juge."
   ]
  },
  {
   "cell_type": "markdown",
   "metadata": {
    "id": "QUeSUMKYUzsM"
   },
   "source": [
    "## 1 - Write an overview (definition, meaning) of validation measures in supervised context for both :\n",
    "\n",
    "\n"
   ]
  },
  {
   "cell_type": "markdown",
   "metadata": {
    "id": "w3COsi3_W0XD"
   },
   "source": [
    "### A - Classification (categorical class)\n",
    "\n",
    "Considering TP = Numbers of individuals well classified positive, TN = Numbers of individuals well classified negative and FP Numbers of positive individuals classified negative, FN Numbers of negative individuals classified positive.\n",
    "\n",
    "Precision : TP / TP + TN, specificity of the model.\n",
    "\n",
    "Recall : TP / TP + FN, sensitivity of the model.\n",
    "\n",
    "F-measure : 2 * ( (Precision * Recall) / (Precision + Recall) ), harmonic mean of recall and precision.\n",
    "\n",
    "Rand index : TP + TN / TP + FP + FN +TN, Percentage of correct decisions made by the classification algorithm. Can be used in clustering to measure the similarity  between two clusters.\n",
    "\n",
    "ROC Curve : Function giving the number of True positive rate (y) given the false negative rate. The goal being having a curve as close as possible to y = x."
   ]
  },
  {
   "cell_type": "markdown",
   "metadata": {
    "id": "YIAvYAJDW-tb"
   },
   "source": [
    "### B - Regression (numeric class)"
   ]
  },
  {
   "cell_type": "markdown",
   "metadata": {
    "id": "5bCVYlW6XdDN"
   },
   "source": [
    "#### Mean Squared Error\n",
    "\n",
    "* MSE ε R<sup>+</sup>\n",
    "* MSE = Average(Indicators - Indicator<sup>2</sup>)\n",
    "* ⇔ MSE = Bias(Indicator)<sup>2</sup> + Variance(Indicator)\n",
    "* As we can see, it can be defined as a mesure of the bias and variance of the Indicator\n",
    "* It evaluates the quadratic risk of the Indicator\n",
    "* Sensitive to outliers (large error values), thus usefull when we want our model to be quite stable\n",
    "\n"
   ]
  },
  {
   "cell_type": "markdown",
   "metadata": {
    "id": "rl0V1nMajzaZ"
   },
   "source": [
    "#### Root Mean Squared-Error\n",
    "\n",
    "* RMSE ε R<sup>+</sup>\n",
    "* RMSE = √(MSE) = √(Average(Indicators - Indicator<sup>2</sup>))\n",
    "* ⇔ RMSE = √(Bias(Indicator)<sup>2</sup> + Variance(Indicator))\n",
    "* As we can see, it can be defined as a mesure of the standard deviation of the Indicator\n",
    "* It evaluates the quadratic risk of the Indicator\n",
    "* Even more Sensitive to outliers (large error values), thus usefull when we want our model to avoid large errors"
   ]
  },
  {
   "cell_type": "markdown",
   "metadata": {
    "id": "tPT2vCHBj2yI"
   },
   "source": [
    "#### Mean Bias Error\n",
    "\n",
    "* MBE ε R\n",
    "* MBE = Average(Y<sub>label</sub> - Y<sub>predicted</sub>)\n",
    "* As we can see, it can be defined as a mesure of the bias of the error between labels and predictions\n",
    "* It indicates if the model surestimate (if MBE < 0)  or underestimate (if MBE > 0) the output "
   ]
  },
  {
   "cell_type": "markdown",
   "metadata": {
    "id": "x5weG5Pgg272"
   },
   "source": []
  },
  {
   "cell_type": "markdown",
   "metadata": {
    "id": "mmGSeju8j5In"
   },
   "source": [
    "#### Systematic Error\n",
    "\n",
    "* SE or SD ε R<sup>+</sup>\n",
    "* SD = √(RMSE(error)<sup>2</sup> - MBE(error)<sup>2</sup>)\n",
    "* As we can see, it can be defined as a mesure of the MSE-Bias so it reduces the importance of larger errors"
   ]
  },
  {
   "cell_type": "markdown",
   "metadata": {
    "id": "m2YF6MiYj7cW"
   },
   "source": [
    "#### Mean Absolute Error\n",
    "\n",
    "* MAE ε R<sup>+</sup>\n",
    "* MAE = Average(|Y<sub>label</sub> - Y<sub>predicted</sub>|)\n",
    "* As we can see, it can be defined as a mesure of the bias, not regarding to its orientation\n",
    "* MAE will not be sensible to outliers"
   ]
  },
  {
   "cell_type": "markdown",
   "metadata": {
    "id": "zORYZld2j9eY"
   },
   "source": [
    "#### Mean Absolute Pourcentage Error\n",
    "\n",
    "* MAPE ε R<sup>+</sup>\n",
    "* MAPE = Average(|(Y<sub>label</sub> - Y<sub>predicted</sub>) / Y<sub>label</sub>|)\n",
    "* As we can see, it can be defined as a mesure of the bias, not regarding to its orientation \n",
    "* It has the advantage to show ratio errors rather than value errors"
   ]
  },
  {
   "cell_type": "markdown",
   "metadata": {
    "id": "mnizEoSej_aX"
   },
   "source": [
    "#### R<sup>2</sup>\n",
    "\n",
    "* R<sup>2</sup> ε R, R<sup>2</sup> ε [-1, 1]\n",
    "* R<sup>2</sup> = Correlation(Y<sub>predicted</sub>, Y<sub>label</sub>)\n",
    "* ⇔ R<sup>2</sup> = Sum((Y<sub>predicted</sub> - Average(Y<sub>label</sub>))<sup>2</sup>/Sum((Y<sub>label</sub> - Average(Y<sub>label</sub>))<sup>2</sup>\n",
    "* As we can see, it can be defined as a mesure of the correlation of the error\n",
    "* It has the advantages to put every error on the same scale"
   ]
  },
  {
   "cell_type": "markdown",
   "metadata": {
    "id": "jIC-PRFoeHXA"
   },
   "source": [
    "### C - Validation Techniques\n",
    "\n",
    "Train-Test : Consists in having 2 seperate datasets following the same probability distribution. One for training and the other one to test the model and make sure it isn't overfitting.\n",
    "\n",
    "Cross-Validation : Dividing the dataset S in N sub sets. For each subset N, train the data on S\\N and try to fit N. The measures are the mean of all the measures found during the cross validation process.\n"
   ]
  },
  {
   "cell_type": "markdown",
   "metadata": {
    "id": "nh0T9VSHVJaL"
   },
   "source": [
    "# Classification with R\n",
    "\n",
    "### R Imports"
   ]
  },
  {
   "cell_type": "code",
   "execution_count": 4,
   "metadata": {},
   "outputs": [],
   "source": [
    "%load_ext rpy2.ipython"
   ]
  },
  {
   "cell_type": "code",
   "execution_count": 7,
   "metadata": {},
   "outputs": [],
   "source": [
    "%%R\n",
    "csv = read.csv(\"Admission_Predict.csv\", header = TRUE)\n",
    "print(csv)"
   ]
  },
  {
   "cell_type": "code",
   "execution_count": null,
   "metadata": {},
   "outputs": [],
   "source": []
  }
 ],
 "metadata": {
  "colab": {
   "collapsed_sections": [
    "YIAvYAJDW-tb"
   ],
   "name": "PMSNA - Classification.ipynb",
   "provenance": [],
   "toc_visible": true
  },
  "kernelspec": {
   "display_name": "Python 3",
   "language": "python",
   "name": "python3"
  },
  "language_info": {
   "codemirror_mode": {
    "name": "ipython",
    "version": 3
   },
   "file_extension": ".py",
   "mimetype": "text/x-python",
   "name": "python",
   "nbconvert_exporter": "python",
   "pygments_lexer": "ipython3",
   "version": "3.7.4"
  }
 },
 "nbformat": 4,
 "nbformat_minor": 1
}
