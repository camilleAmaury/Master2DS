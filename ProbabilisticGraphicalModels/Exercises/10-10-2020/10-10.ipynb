{
 "cells": [
  {
   "cell_type": "markdown",
   "metadata": {},
   "source": [
    "# Exercise of the 10th of october 2020\n",
    "\n",
    "following \"2-Bayesian network definition - dependence modelling\" on extradoc"
   ]
  },
  {
   "cell_type": "markdown",
   "metadata": {},
   "source": [
    "<!-- ![Ex1](images/1.PNG) -->"
   ]
  },
  {
   "cell_type": "markdown",
   "metadata": {},
   "source": [
    "## 1\n",
    "\n",
    "![Ex1](images/2.PNG)\n",
    "![Ex1](images/3.PNG)\n",
    "![Ex1](images/4.PNG)\n",
    "![Ex1](images/5.PNG)\n",
    "![Ex1](images/6.PNG)\n",
    "![Ex1](images/7.PNG)\n",
    "![Ex1](images/8.PNG)\n",
    "\n",
    "<center>Or</center>\n",
    "\n",
    "![Ex1](images/9.PNG)\n",
    "\n",
    "<center>Or</center>\n",
    "\n",
    "![Ex1](images/10.PNG)\n",
    "![Ex1](images/11.PNG)\n",
    "![Ex1](images/12.PNG)"
   ]
  },
  {
   "cell_type": "markdown",
   "metadata": {},
   "source": [
    "## 2\n",
    "\n",
    "![Ex1](images/13.PNG)\n",
    "![Ex1](images/14.PNG)\n",
    "\n",
    "<center>P(J,L,I,F,M,D,B,A,C,K,E,G,H)</center>"
   ]
  },
  {
   "cell_type": "markdown",
   "metadata": {},
   "source": [
    "## 3\n",
    "\n",
    "![Ex1](images/15.PNG)\n",
    "![Ex1](images/16.PNG)\n",
    "\n",
    "<center>J and E are dependent since we find a serial connection without any nodes instanciated between</center>\n",
    "\n",
    "![Ex1](images/17.PNG)\n",
    "![Ex1](images/18.PNG)\n",
    "\n",
    "<center>J and F are independent since we find a convergent connection not instanciated</center>\n",
    "\n",
    "![Ex1](images/19.PNG)\n",
    "![Ex1](images/20.PNG)\n",
    "\n",
    "<center>J and I are independent since we find a convergent connection not instanciated</center>\n",
    "\n",
    "![Ex1](images/21.PNG)\n",
    "\n",
    "<center>J and I | D are independent since we find a convergent connection not instanciated</center>\n",
    "\n",
    "![Ex1](images/22.png)\n",
    "\n",
    "<center>J and I | B are dependent since we find a convergent connection instanciated and then a serial connection</center>\n",
    "\n",
    "![Ex1](images/23.png)\n",
    "\n",
    "<center>J and I | G are dependent since we find a convergent connection instanciated and then a serial connection</center>\n",
    "\n",
    "![Ex1](images/24.png)\n",
    "![Ex1](images/25.PNG)\n",
    "\n",
    "<center>F and B are independent since we find a convergent connection not instanciated</center>\n",
    "\n",
    "![Ex1](images/26.PNG)\n",
    "\n",
    "<center>F and B | H are dependent since we find a convergent connection instanciated and then a serial connection</center>\n",
    "\n",
    "![Ex1](images/27.png)\n",
    "\n",
    "<center>F and B | E are independent since we find a convergent connection not instanciated</center>\n",
    "\n",
    "![Ex1](images/28.png)\n",
    "\n",
    "<center>F and B | E and K are dependent since we find a convergent connection instanciated and then a convergent connection instanciated and then a serial connection</center>\n",
    "\n",
    "![Ex1](images/29.png)"
   ]
  },
  {
   "cell_type": "markdown",
   "metadata": {},
   "source": [
    "## 4\n",
    "\n",
    "![Ex1](images/30.png)\n",
    "\n",
    "<center>Markov Blanket of D : {J,L,I,M,C,B} ⇒ P(D|\"ALL\") = P(D|J,L,I,M,C,B) </center>\n",
    "\n",
    "![Ex1](images/31.png)\n",
    "\n",
    "<center>Markov Blanket of B : {I,D,C,E} ⇒ P(B|\"ALL\") = P(B|I,D,C,E) </center>\n",
    "\n",
    "![Ex1](images/32.png)\n",
    "\n",
    "<center>Markov Blanket of C : {D,M,B,F,E,K} ⇒ P(C|\"ALL\") = P(C|D,M,B,F,E,K) </center>\n",
    "\n",
    "![Ex1](images/33.png)"
   ]
  },
  {
   "cell_type": "markdown",
   "metadata": {},
   "source": [
    "## 5\n",
    "\n",
    "![Ex1](images/34.png)\n",
    "\n",
    "<center>V-Structure : {(T⇒O), (L⇒O), (O⇒D), (B⇒D)}</center>\n",
    "\n",
    "<center>Infered : {(O⇒X)}</center>\n",
    "\n",
    "![Ex1](images/35.PNG)\n",
    "\n",
    "![Ex1](images/36.PNG)\n",
    "\n",
    "DAGs :\n",
    "* 1 ⇒ No Edge\n",
    "* 6 ⇒ 1 Edge\n",
    "* 12 ⇒ 2 Edges\n",
    "* 6 ⇒ 3 Edges (8 - 2 cyclic graph)\n",
    "* DAGs = 25\n",
    "\n",
    "CPDAGs :\n",
    "* 1 ⇒ No Edge\n",
    "* 3 ⇒ 1 Edge\n",
    "* 6 ⇒ 2 Edges\n",
    "* 1 ⇒ 3 Edges \n",
    "* CPDAGs = 11"
   ]
  },
  {
   "cell_type": "code",
   "execution_count": null,
   "metadata": {},
   "outputs": [],
   "source": []
  }
 ],
 "metadata": {
  "kernelspec": {
   "display_name": "Python 3",
   "language": "python",
   "name": "python3"
  },
  "language_info": {
   "codemirror_mode": {
    "name": "ipython",
    "version": 3
   },
   "file_extension": ".py",
   "mimetype": "text/x-python",
   "name": "python",
   "nbconvert_exporter": "python",
   "pygments_lexer": "ipython3",
   "version": "3.7.9"
  }
 },
 "nbformat": 4,
 "nbformat_minor": 4
}
