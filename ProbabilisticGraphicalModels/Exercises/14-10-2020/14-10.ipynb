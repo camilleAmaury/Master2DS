{
 "cells": [
  {
   "cell_type": "markdown",
   "metadata": {},
   "source": [
    "# Exercice of the 14th of october 2020"
   ]
  },
  {
   "cell_type": "markdown",
   "metadata": {},
   "source": [
    "## Message Passing"
   ]
  },
  {
   "cell_type": "markdown",
   "metadata": {},
   "source": [
    "Let's Take the \"Animals\" Bayesian Network with the fact that no nodes are observed."
   ]
  },
  {
   "cell_type": "markdown",
   "metadata": {},
   "source": [
    "### 1. Descendant (λ-message)"
   ]
  },
  {
   "cell_type": "markdown",
   "metadata": {},
   "source": [
    "We want to compute the λ message (descendant ⇒ parent)\n",
    "\n",
    "Then :\n",
    "* No evidence (unobserved nodes) ⇒ Can't Init λ(evidences)\n",
    "* Need to init with unobserved leaves ⇒ λ(unobs.leaves)\n",
    "\n",
    "![e](images/unobserved.PNG)\n",
    "\n",
    "So for each leaves :\n",
    "* λ(Warming Blood) = [1 1]\n",
    "* λ(Body Covering) = [1 1 1]\n",
    "* λ(Has shell) = [1 1]\n",
    "* λ(Environnement) = [1 1 1]\n",
    "* λ(Bears as young) = [1 1]\n",
    "\n",
    "We compute all the messages from every descendant to parents :\n",
    "\n",
    "for Class (since there are no evidence) :\n",
    "* λ<sub>Body Covering</sub>(Class) = [1 1 1]\n",
    "* λ<sub>Has shell</sub>(Class) = [1×0+1×1 1×0+1×1 1×1+0×1] = [1 1 1]\n",
    "* λ<sub>Warming Blood</sub>(Class) = [1 1 1]\n",
    "\n",
    "Regarding this :\n",
    "\n",
    "![e](images/example_hs.PNG)\n",
    "\n",
    "Using this rule :\n",
    "\n",
    "![e](images/rule_1.PNG)\n",
    "\n",
    "\n",
    "----------\n",
    "For example if we had Has Shell to True we will proceed like that :\n",
    "\n",
    "![e](images/example_hs.PNG)\n",
    "\n",
    "* λ<sub>Has shell = True</sub>(Class) = [1×0 1×0 1×1] = [0 0 1]\n",
    "\n",
    "Using this rule :\n",
    "\n",
    "![e](images/rule_2.PNG)\n",
    "\n",
    "Then it would be a Reptile\n",
    "\n",
    "----------\n",
    "\n",
    "Then we do the product of all messages for Class :\n",
    "* λ(Class) = λ<sub>Body Covering</sub>(Class) × λ<sub>Has shell</sub>(Class) × λ<sub>Warming Blood</sub>(Class)\n",
    "* ⇔ λ(Class) = [1×1×1 1×1×1 1×1×1] = [1 1 1]\n",
    "\n",
    "Same for Animal : \n",
    "* λ<sub>Environnement</sub>(Animal) = [1 1 1 1 1]\n",
    "* λ<sub>Bears as young</sub>(Animal) = [1 1 1 1 1]\n",
    "* λ<sub>Class</sub>(Animal) = [1 1 1 1 1]\n",
    "\n",
    "Then we do the product of all messages for Animal :\n",
    "\n",
    "Using this rule :\n",
    "\n",
    "![e](images/rule_3.PNG)\n",
    "\n",
    "* λ(Animal) = λ<sub>Environnement</sub>(Animal) × λ<sub>Bears as young</sub>(Animal) × λ<sub>Class</sub>(Animal)\n",
    "* ⇔ λ(Animal) = [1×1×1 1×1×1 1×1×1 1×1×1 1×1×1] = [1 1 1 1 1]\n",
    "\n",
    "We can conclude that we don't know whether animal it is"
   ]
  },
  {
   "cell_type": "markdown",
   "metadata": {},
   "source": [
    "### 2. Parents (π-message)"
   ]
  },
  {
   "cell_type": "markdown",
   "metadata": {},
   "source": [
    "We want to compute the π message (Non-Descendant ⇒ children)\n",
    "\n",
    "Then :\n",
    "* No evidence (unobserved nodes) ⇒ Can't Init π(evidences)\n",
    "* Need to init with unobserved root ⇒ π(unobs.root)\n",
    "\n",
    "So for each root :\n",
    "* π(Animal) = [0.2 0.2 0.2 0.2 0.2]\n",
    "\n",
    "Using this rule :\n",
    "\n",
    "![e](images/rule_4.PNG)\n",
    "\n",
    "In order to compute π(Animal), we need the λ<sub>Children</sub>(Animal) and then compute the product :\n",
    "* λ<sub>Bears as Young</sub>(Animal)\n",
    "* λ<sub>Class</sub>(Animal)\n",
    "\n",
    "π(Animal) = λ<sub>Bears as Young</sub>(Animal) × λ<sub>Class</sub>(Animal)\n",
    "\n",
    "Then we want to compute π(Environnement) :\n",
    "\n",
    "* π<sub>Environnement</sub>(Animal) = π(Animal) × λ<sub>Bears as Young</sub>(Animal) × λ<sub>Class</sub>(Animal)\n",
    "\n",
    "* π(Environnement) = π<sub>Environnement</sub>(Animal) × distribution table of Environnement\n",
    "\n",
    "Then we want to compute π(Bears as Young) :\n",
    "\n",
    "* π<sub>Bears as Young</sub>(Animal) = π(Animal) × λ<sub>Environnement</sub>(Animal) × λ<sub>Class</sub>(Animal)\n",
    "\n",
    "* π(Bears as Young) = π<sub>Bears as Young</sub>(Animal) × distribution table of Bears as Young\n",
    "\n",
    "Then we want to compute π(Class) :\n",
    "\n",
    "* π<sub>Class</sub>(Animal) = π(Animal) × λ<sub>Environnement</sub>(Animal) × λ<sub>Bears as Young</sub>(Animal)\n",
    "\n",
    "* π(Class) = π<sub>Class</sub>(Animal) × distribution table of Class\n",
    "\n",
    "Then we want to compute π(Warming Blood) :\n",
    "\n",
    "* π<sub>Warming Blood</sub>(Class) = π(Class) × λ<sub>Body covering</sub>(Class) × λ<sub>Has Shell</sub>(Class)\n",
    "\n",
    "* π(Warming Blood) = π<sub>Warming Blood</sub>(Class) × distribution table of Warming Blood\n",
    "\n",
    "Then we want to compute π(Has Shell) :\n",
    "\n",
    "* π<sub>Has Shell</sub>(Class) = π(Class) × λ<sub>Body covering</sub>(Class) × λ<sub>Warming Blood</sub>(Class)\n",
    "\n",
    "* π(Has Shell) = π<sub>Has Shell</sub>(Class) × distribution table of Has Shell\n",
    "\n",
    "Then we want to compute π(Body covering) :\n",
    "\n",
    "* π<sub>Body covering</sub>(Class) = π(Class) × λ<sub>Warming Blood</sub>(Class) × λ<sub>Has Shell</sub>(Class)\n",
    "\n",
    "* π(Body covering) = π<sub>Body covering</sub>(Class) × distribution table of Body covering\n",
    "\n",
    "\n",
    "----------\n",
    "For example :\n",
    "\n",
    "* π<sub>Environnement</sub>(Animal) = π(Animal) × λ<sub>Bears as Young</sub>(Animal) × λ<sub>Class</sub>(Animal)\n",
    "\n",
    "with :\n",
    "* π(Animal) = [0.2 0.2 0.2 0.2 0.2]\n",
    "* λ<sub>Bears as Young</sub>(Animal) = [1 1 1 1 1]\n",
    "* λ<sub>Class</sub>(Animal) = [1 1 1 1 1]\n",
    "\n",
    "* π<sub>Environnement</sub>(Animal) = [0.2×1×1 0.2×1×1 0.2×1×1 0.2×1×1 0.2×1×1] = [0.2 0.2 0.2 0.2 0.2]\n",
    "\n",
    "Then with P(Environnement | Animal) :\n",
    "\n",
    "![e](images/example_env.PNG)\n",
    "\n",
    "* π(Environnement = Air) = 0.2×0 + 0.2×0 + 0.2×0 + 0.2×0.5 + 0.2×0 = 0.1\n",
    "* π(Environnement = Land) = 0.2×1 + 0.2×0.5 + 0.2×0 + 0.2×0.5 + 0.2×0.5 = 0.5\n",
    "* π(Environnement = Water) = 0.2×0 + 0.2×0.5 + 0.2×1 + 0.2×0 + 0.2×0.5 = 0.4\n",
    "\n",
    "Hence : \n",
    "* π(Environnement) = [0.1 0.5 0.4]"
   ]
  },
  {
   "cell_type": "markdown",
   "metadata": {},
   "source": [
    "### 3. Computing the Message Passing Algorithm \n",
    "\n",
    "#### Example : P(Environnement | No Evidence)"
   ]
  },
  {
   "cell_type": "markdown",
   "metadata": {},
   "source": [
    "* P(Environnement | No Evidence) = π(Environnement) × λ(Environnement)\n",
    "* ⇔ P(Environnement | No Evidence) = [0.1 0.5 0.4] * [1 1 1]\n",
    "* ⇔ P(Environnement | No Evidence) = [0.1 0.5 0.4]\n",
    "* We now need to normalize (in fact here it sums to 1 but should do it anyway)\n",
    "* ⇔ P(Environnement | No Evidence) = [0.1 0.5 0.4] / (0.1 + 0.5 + 0.4)\n",
    "* ⇔ P(Environnement | No Evidence) = [0.1 0.5 0.4]\n",
    "\n",
    "P(Environnement | No Evidence) = [0.1 0.5 0.4]\n",
    "\n",
    "![e](images/unobs_2.PNG)"
   ]
  },
  {
   "cell_type": "code",
   "execution_count": null,
   "metadata": {},
   "outputs": [],
   "source": []
  }
 ],
 "metadata": {
  "kernelspec": {
   "display_name": "Python 3",
   "language": "python",
   "name": "python3"
  },
  "language_info": {
   "codemirror_mode": {
    "name": "ipython",
    "version": 3
   },
   "file_extension": ".py",
   "mimetype": "text/x-python",
   "name": "python",
   "nbconvert_exporter": "python",
   "pygments_lexer": "ipython3",
   "version": "3.7.6"
  }
 },
 "nbformat": 4,
 "nbformat_minor": 4
}
