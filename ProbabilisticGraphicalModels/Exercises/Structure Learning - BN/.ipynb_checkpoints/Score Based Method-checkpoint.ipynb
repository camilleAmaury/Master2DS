{
 "cells": [
  {
   "cell_type": "markdown",
   "metadata": {},
   "source": [
    "# Score Based Method for Structure Learning"
   ]
  },
  {
   "cell_type": "markdown",
   "metadata": {},
   "source": [
    "### Important properties\n",
    "\n",
    "slide 27\n",
    "\n",
    "![temp](images/s_2.PNG)\n",
    "\n",
    "![temp](images/s_1.PNG)\n",
    "\n",
    "How to compute the interest of removing an edge or keeping it ?\n",
    "\n",
    "Compare the score function between Graph with the edge and without the edge (regarding the example)\n",
    "\n",
    "![temp](images/s_3.PNG)"
   ]
  },
  {
   "attachments": {},
   "cell_type": "markdown",
   "metadata": {},
   "source": [
    "### Example \n",
    "\n",
    "![text](images/s_4.PNG)"
   ]
  },
  {
   "cell_type": "code",
   "execution_count": 1,
   "metadata": {},
   "outputs": [],
   "source": [
    "import pandas as pd"
   ]
  },
  {
   "cell_type": "markdown",
   "metadata": {},
   "source": [
    "#### Empty Graph"
   ]
  },
  {
   "cell_type": "code",
   "execution_count": 3,
   "metadata": {},
   "outputs": [
    {
     "data": {
      "text/html": [
       "<div>\n",
       "<style scoped>\n",
       "    .dataframe tbody tr th:only-of-type {\n",
       "        vertical-align: middle;\n",
       "    }\n",
       "\n",
       "    .dataframe tbody tr th {\n",
       "        vertical-align: top;\n",
       "    }\n",
       "\n",
       "    .dataframe thead th {\n",
       "        text-align: right;\n",
       "    }\n",
       "</style>\n",
       "<table border=\"1\" class=\"dataframe\">\n",
       "  <thead>\n",
       "    <tr style=\"text-align: right;\">\n",
       "      <th></th>\n",
       "      <th>Y</th>\n",
       "      <th>N</th>\n",
       "    </tr>\n",
       "  </thead>\n",
       "  <tbody>\n",
       "    <tr>\n",
       "      <th>P(X1)</th>\n",
       "      <td>0.5</td>\n",
       "      <td>0.5</td>\n",
       "    </tr>\n",
       "  </tbody>\n",
       "</table>\n",
       "</div>"
      ],
      "text/plain": [
       "         Y    N\n",
       "P(X1)  0.5  0.5"
      ]
     },
     "execution_count": 3,
     "metadata": {},
     "output_type": "execute_result"
    }
   ],
   "source": [
    "X1 = pd.DataFrame([[4/8, 4/8]], columns=[\"Y\", \"N\"], index=[\"P(X1)\"])\n",
    "X1"
   ]
  },
  {
   "cell_type": "code",
   "execution_count": 4,
   "metadata": {},
   "outputs": [
    {
     "data": {
      "text/html": [
       "<div>\n",
       "<style scoped>\n",
       "    .dataframe tbody tr th:only-of-type {\n",
       "        vertical-align: middle;\n",
       "    }\n",
       "\n",
       "    .dataframe tbody tr th {\n",
       "        vertical-align: top;\n",
       "    }\n",
       "\n",
       "    .dataframe thead th {\n",
       "        text-align: right;\n",
       "    }\n",
       "</style>\n",
       "<table border=\"1\" class=\"dataframe\">\n",
       "  <thead>\n",
       "    <tr style=\"text-align: right;\">\n",
       "      <th></th>\n",
       "      <th>Y</th>\n",
       "      <th>N</th>\n",
       "    </tr>\n",
       "  </thead>\n",
       "  <tbody>\n",
       "    <tr>\n",
       "      <th>P(X2)</th>\n",
       "      <td>0.75</td>\n",
       "      <td>0.25</td>\n",
       "    </tr>\n",
       "  </tbody>\n",
       "</table>\n",
       "</div>"
      ],
      "text/plain": [
       "          Y     N\n",
       "P(X2)  0.75  0.25"
      ]
     },
     "execution_count": 4,
     "metadata": {},
     "output_type": "execute_result"
    }
   ],
   "source": [
    "X2 = pd.DataFrame([[6/8, 2/8]], columns=[\"Y\", \"N\"], index=[\"P(X2)\"])\n",
    "X2"
   ]
  },
  {
   "cell_type": "markdown",
   "metadata": {},
   "source": [
    "D : Dataset\n",
    "G0 : Graph\n",
    "L : Likelihood\n",
    "\n",
    "Likelihood of G0 : L(D, G0, θ<sup>ML</sup>) = P(D | G0, θ<sup>ML</sup>) = P(X1,X2 | G, θ<sup>ML</sup>) \n",
    "\n",
    "Considering the fact the dataset is \"iid\" (each row is independant) and independant variable property :\n",
    "* P(A, B) = P(A) × P(B)\n",
    "We obtain that :\n",
    "P(X1,X2 | G0, θ<sup>ML</sup>) = Π<sub>row</sub>(X1,X2<sub>row</sub>| G0, θ<sup>ML</sup>)\n",
    "\n",
    "So since variable are independant in G0 :\n",
    "* P(X1,X2<sub>1</sub> | G0, θ<sup>ML</sup>) = P(X1=Y | G0, θ<sup>ML</sup>) × P(X2=N | G0, θ<sup>ML</sup>) = 1/2 × 1/4 = 1/8\n",
    "* P(X1,X2<sub>2</sub> | G0, θ<sup>ML</sup>) = P(X1=Y | G0, θ<sup>ML</sup>) × P(X2=Y | G0, θ<sup>ML</sup>) = 1/2 × 3/4 = 3/8\n",
    "* P(X1,X2<sub>3</sub> | G0, θ<sup>ML</sup>) = P(X1=Y | G0, θ<sup>ML</sup>) × P(X2=Y | G0, θ<sup>ML</sup>) = 1/2 × 3/4 = 3/8\n",
    "* P(X1,X2<sub>4</sub> | G0, θ<sup>ML</sup>) = P(X1=N | G0, θ<sup>ML</sup>) × P(X2=N | G0, θ<sup>ML</sup>) = 1/2 × 1/4 = 1/8\n",
    "* P(X1,X2<sub>5</sub> | G0, θ<sup>ML</sup>) = P(X1=N | G0, θ<sup>ML</sup>) × P(X2=N | G0, θ<sup>ML</sup>) = 1/2 × 1/4 = 1/8\n",
    "* P(X1,X2<sub>6</sub> | G0, θ<sup>ML</sup>) = P(X1=N | G0, θ<sup>ML</sup>) × P(X2=Y | G0, θ<sup>ML</sup>) = 1/2 × 3/4 = 3/8\n",
    "* P(X1,X2<sub>7</sub> | G0, θ<sup>ML</sup>) = P(X1=N | G0, θ<sup>ML</sup>) × P(X2=Y | G0, θ<sup>ML</sup>) = 1/2 × 3/4 = 3/8\n",
    "* P(X1,X2<sub>8</sub> | G0, θ<sup>ML</sup>) = P(X1=N | G0, θ<sup>ML</sup>) × P(X2=Y | G0, θ<sup>ML</sup>) = 1/2 × 3/4 = 3/8\n",
    "\n",
    "so we obtain :\n",
    "* P(X1,X2 | G0, θ<sup>ML</sup>) = (3/8)<sup>6</sup> × (1/8)<sup>2</sup>\n",
    "* P(X1,X2 | G0, θ<sup>ML</sup>) = 6(1log3 - 3log2) - 2×3log2 = 6log3 - 18log2 - 6log2 = 6log3-24log2\n",
    "\n",
    "Then with :\n",
    "S<sub>AIC</sub> = log L - dim(B) = log(6log3-24log2) - 2"
   ]
  },
  {
   "cell_type": "markdown",
   "metadata": {},
   "source": [
    "#### Complete Graph"
   ]
  },
  {
   "cell_type": "code",
   "execution_count": 5,
   "metadata": {},
   "outputs": [
    {
     "data": {
      "text/html": [
       "<div>\n",
       "<style scoped>\n",
       "    .dataframe tbody tr th:only-of-type {\n",
       "        vertical-align: middle;\n",
       "    }\n",
       "\n",
       "    .dataframe tbody tr th {\n",
       "        vertical-align: top;\n",
       "    }\n",
       "\n",
       "    .dataframe thead th {\n",
       "        text-align: right;\n",
       "    }\n",
       "</style>\n",
       "<table border=\"1\" class=\"dataframe\">\n",
       "  <thead>\n",
       "    <tr style=\"text-align: right;\">\n",
       "      <th></th>\n",
       "      <th>Y</th>\n",
       "      <th>N</th>\n",
       "    </tr>\n",
       "  </thead>\n",
       "  <tbody>\n",
       "    <tr>\n",
       "      <th>P(X1)</th>\n",
       "      <td>0.5</td>\n",
       "      <td>0.5</td>\n",
       "    </tr>\n",
       "  </tbody>\n",
       "</table>\n",
       "</div>"
      ],
      "text/plain": [
       "         Y    N\n",
       "P(X1)  0.5  0.5"
      ]
     },
     "execution_count": 5,
     "metadata": {},
     "output_type": "execute_result"
    }
   ],
   "source": [
    "X1 = pd.DataFrame([[4/8, 4/8]], columns=[\"Y\", \"N\"], index=[\"P(X1)\"])\n",
    "X1"
   ]
  },
  {
   "cell_type": "code",
   "execution_count": 8,
   "metadata": {},
   "outputs": [
    {
     "data": {
      "text/html": [
       "<div>\n",
       "<style scoped>\n",
       "    .dataframe tbody tr th:only-of-type {\n",
       "        vertical-align: middle;\n",
       "    }\n",
       "\n",
       "    .dataframe tbody tr th {\n",
       "        vertical-align: top;\n",
       "    }\n",
       "\n",
       "    .dataframe thead th {\n",
       "        text-align: right;\n",
       "    }\n",
       "</style>\n",
       "<table border=\"1\" class=\"dataframe\">\n",
       "  <thead>\n",
       "    <tr style=\"text-align: right;\">\n",
       "      <th></th>\n",
       "      <th>P(X1)=N</th>\n",
       "      <th>P(X1)=Y</th>\n",
       "    </tr>\n",
       "  </thead>\n",
       "  <tbody>\n",
       "    <tr>\n",
       "      <th>P(X2)=N</th>\n",
       "      <td>0.25</td>\n",
       "      <td>0.25</td>\n",
       "    </tr>\n",
       "    <tr>\n",
       "      <th>P(X2)=Y</th>\n",
       "      <td>0.75</td>\n",
       "      <td>0.75</td>\n",
       "    </tr>\n",
       "  </tbody>\n",
       "</table>\n",
       "</div>"
      ],
      "text/plain": [
       "         P(X1)=N  P(X1)=Y\n",
       "P(X2)=N     0.25     0.25\n",
       "P(X2)=Y     0.75     0.75"
      ]
     },
     "execution_count": 8,
     "metadata": {},
     "output_type": "execute_result"
    }
   ],
   "source": [
    "X2_given_X1 = pd.DataFrame([[1/4, 1/4], [3/4, 3/4]], columns=[\"P(X1)=N\", \"P(X1)=Y\"], index=[\"P(X2)=N\", \"P(X2)=Y\"])\n",
    "X2_given_X1"
   ]
  },
  {
   "cell_type": "markdown",
   "metadata": {},
   "source": [
    "Variable are not independant then :\n",
    "* P(X1, X2) = P(X1) × P(X2|X1)\n",
    "\n",
    "Then :\n",
    "\n",
    "* P(X1,X2<sub>1</sub> | G0, θ<sup>ML</sup>) = P(X1=Y | G0, θ<sup>ML</sup>) × P(X2=N | X1=Y, G0, θ<sup>ML</sup>) = 1/2 × 1/4 = 1/8\n",
    "* P(X1,X2<sub>2</sub> | G0, θ<sup>ML</sup>) = P(X1=Y | G0, θ<sup>ML</sup>) × P(X2=Y | X1=Y, G0, θ<sup>ML</sup>) = 1/2 × 3/4 = 3/8\n",
    "* P(X1,X2<sub>3</sub> | G0, θ<sup>ML</sup>) = P(X1=Y | G0, θ<sup>ML</sup>) × P(X2=Y | X1=Y, G0, θ<sup>ML</sup>) = 1/2 × 3/4 = 3/8\n",
    "* P(X1,X2<sub>4</sub> | G0, θ<sup>ML</sup>) = P(X1=N | G0, θ<sup>ML</sup>) × P(X2=N | X1=N, G0, θ<sup>ML</sup>) = 1/2 × 1/4 = 1/8\n",
    "* P(X1,X2<sub>5</sub> | G0, θ<sup>ML</sup>) = P(X1=N | G0, θ<sup>ML</sup>) × P(X2=N | X1=N, G0, θ<sup>ML</sup>) = 1/2 × 1/4 = 1/8\n",
    "* P(X1,X2<sub>6</sub> | G0, θ<sup>ML</sup>) = P(X1=N | G0, θ<sup>ML</sup>) × P(X2=Y | X1=N, G0, θ<sup>ML</sup>) = 1/2 × 3/4 = 3/8\n",
    "* P(X1,X2<sub>7</sub> | G0, θ<sup>ML</sup>) = P(X1=N | G0, θ<sup>ML</sup>) × P(X2=Y | X1=N, G0, θ<sup>ML</sup>) = 1/2 × 3/4 = 3/8\n",
    "* P(X1,X2<sub>8</sub> | G0, θ<sup>ML</sup>) = P(X1=N | G0, θ<sup>ML</sup>) × P(X2=Y | X1=N, G0, θ<sup>ML</sup>) = 1/2 × 3/4 = 3/8\n",
    "\n",
    "so we obtain :\n",
    "* P(X1,X2 | G0, θ<sup>ML</sup>) = (3/8)<sup>6</sup> × (1/8)<sup>2</sup>\n",
    "* P(X1,X2 | G0, θ<sup>ML</sup>) = 6(1log3 - 3log2) - 2×3log2 = 6log3 - 18log2 - 6log2 = 6log3-24log2\n",
    "\n",
    "We obtain the same score as if they were independant : why ?\n",
    "Because in our table P(X2|X1), the X1 variable as no impact\n",
    "\n",
    "Then with :\n",
    "S<sub>AIC</sub> = log L - dim(B) = log(6log3-24log2) - 3\n",
    "\n",
    "So the S<sub>AIC</sub> is worse than the last one"
   ]
  },
  {
   "cell_type": "code",
   "execution_count": null,
   "metadata": {},
   "outputs": [],
   "source": []
  }
 ],
 "metadata": {
  "kernelspec": {
   "display_name": "Python 3",
   "language": "python",
   "name": "python3"
  },
  "language_info": {
   "codemirror_mode": {
    "name": "ipython",
    "version": 3
   },
   "file_extension": ".py",
   "mimetype": "text/x-python",
   "name": "python",
   "nbconvert_exporter": "python",
   "pygments_lexer": "ipython3",
   "version": "3.7.9"
  }
 },
 "nbformat": 4,
 "nbformat_minor": 4
}
